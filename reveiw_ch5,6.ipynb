{
 "cells": [
  {
   "cell_type": "markdown",
   "metadata": {},
   "source": [
    "## 스택, 큐, DFS, BFS 복습"
   ]
  },
  {
   "cell_type": "code",
   "execution_count": 1,
   "metadata": {},
   "outputs": [
    {
     "name": "stdout",
     "output_type": "stream",
     "text": [
      "[5, 2, 1]\n"
     ]
    }
   ],
   "source": [
    "#스택. 선입후출, 후입선출 형태의 자료구조\n",
    "#파이썬에서는 리스트 자료구조가 곧 스택 자료구조와 동일함\n",
    "#append로 데이터 삽입을 하고\n",
    "#pop으로 데이터 출력\n",
    "\n",
    "stack = []\n",
    "\n",
    "stack.append(5)\n",
    "stack.append(2)\n",
    "stack.append(3)\n",
    "stack.pop()\n",
    "stack.append(1)\n",
    "stack.append(4)\n",
    "stack.pop()\n",
    "\n",
    "print(stack) #pop이전에 append되었었던 3과 4가 출력됨"
   ]
  },
  {
   "cell_type": "code",
   "execution_count": 2,
   "metadata": {},
   "outputs": [
    {
     "name": "stdout",
     "output_type": "stream",
     "text": [
      "deque([3, 1, 4])\n"
     ]
    }
   ],
   "source": [
    "#큐. 선입선출 형태의 자료구조\n",
    "#파이썬에서는 collections 모듈의 deque 클래스를 이용하여서 큐를 구현함\n",
    "#append로 데이터를 삽입하고\n",
    "#popleft로 데이터를 출력한다\n",
    "\n",
    "from collections import deque\n",
    "\n",
    "queue = deque()\n",
    "\n",
    "queue.append(5)\n",
    "queue.append(2)\n",
    "queue.append(3)\n",
    "queue.popleft()\n",
    "queue.append(1)\n",
    "queue.append(4)\n",
    "queue.popleft()\n",
    "\n",
    "print(queue) #가장 먼저 들어왔었던 5, 2가 사라짐"
   ]
  },
  {
   "cell_type": "code",
   "execution_count": 3,
   "metadata": {},
   "outputs": [
    {
     "name": "stdout",
     "output_type": "stream",
     "text": [
      "1 2 7 6 8 3 4 5 "
     ]
    }
   ],
   "source": [
    "#DFS 깊이우선 탐색. \n",
    "#tree형태의 자료에서 어떤 값을 찾고자 할 때 깊이를 바탕으로 데이터를 탐색\n",
    "#즉 최대한 깊이 탐색한 이후에 그 깊이를 모두 탐색했을 때는 분기점으로 다시 돌아와서 다른 깊이를 탐색\n",
    "#DFS는 재귀함수로 구현됨\n",
    "#갚이 우선으로 탐색한다는 것은 가능한 모든 경우를 탐색하는 것과 비슷하다고 볼 수 있다\n",
    "#따라서 어떤 문제가 주어질 때 '가능한 모든 경우', '최대 개수' 등의 단어 혹은 이와 같은 개념이 필요할 경우 \n",
    "#DFS로 구현을 시도해 볼 수 있다\n",
    "\n",
    "def dfs(graph, v, visited): #v는 시작인덱스, visited는 방문 여부를 담은 리스트\n",
    "    visited[v] = True\n",
    "    print(v, end = ' ')\n",
    "    \n",
    "    for i in graph[v]: #시작 인덱스에 해당하는 연결들을 iter\n",
    "        if not visited[i]: #해당 인덱스 노드를 방문하지 않았을 때\n",
    "            dfs(graph, i, visited) #v인덱스 노드와 관련되는 노드들 중 1번째 깊이를 따라서 탐색\n",
    "            \n",
    "graph = [\n",
    "    [],\n",
    "    [2, 3, 8],\n",
    "    [1, 7],\n",
    "    [1, 4, 5],\n",
    "    [3, 5],\n",
    "    [3, 4],\n",
    "    [7],\n",
    "    [2, 6, 8],\n",
    "    [1, 7]\n",
    "] \n",
    "#이와 같이 그래프를 표현하는 방식을 인접행렬 Adjacency Matrix라고 한다\n",
    "#각 index는 노드번호를 나타내고, 각 노드번호와 관련이 있는 다른 노도들의 번호가 value가 된다\n",
    "\n",
    "visited = [False] * len(graph)\n",
    "\n",
    "dfs(graph, 1, visited)"
   ]
  },
  {
   "cell_type": "code",
   "execution_count": 4,
   "metadata": {},
   "outputs": [
    {
     "name": "stdout",
     "output_type": "stream",
     "text": [
      "1 2 3 8 7 4 5 6 "
     ]
    }
   ],
   "source": [
    "#BFS 너비 우선 탐색.\n",
    "#tree형태에서 어떤 자료를 찾고자 할 때 너비를 바탕으로 데이터를 탐색\n",
    "#즉 최대한 넓은, 오른쪽 방향으로 데이터를 탐색한 후에 해당 너비 탐색을 마치면 아래 너비의 데이터를 탐색\n",
    "#BFS는 큐 자료를 사용. 왜냐하면 먼저 들어온 노드의 번호가 방문처리되면 그 노드번호를 그대로 탈출시키고 나가야하기 때문\n",
    "#너비 우선으로 탐색한다는 것은 헤당 너비에 solution이 있을 경우 멈춘다는 것이다\n",
    "#따라서 최소의 경우를 구하고자 할 때 BFS 사용을 고려하여라\n",
    "\n",
    "from collections import deque\n",
    "\n",
    "def bfs(graph, start, visited):\n",
    "    queue = deque([start]) #시작노드를 큐에 삽입\n",
    "    \n",
    "    visited[start] = True\n",
    "    \n",
    "    while queue: #큐가 비면 알고리즘을 멈춤\n",
    "        v = queue.popleft() #큐에 들어있는 노드번호 중 가장 먼저 들어온 노드를 출력\n",
    "        print(v, end = ' ')\n",
    "        \n",
    "        for i in graph[v]: #방문처리 되어 있지 않으면 모두 방문처리를 하기\n",
    "            if not visited[i]: \n",
    "                queue.append(i)\n",
    "                visited[i] = True\n",
    "graph = [\n",
    "    [],\n",
    "    [2, 3, 8],\n",
    "    [1, 7],\n",
    "    [1, 4, 5],\n",
    "    [3, 5],\n",
    "    [3, 4],\n",
    "    [7],\n",
    "    [2, 6, 8],\n",
    "    [1, 7]\n",
    "] \n",
    "\n",
    "visited = [False] * len(graph)\n",
    "\n",
    "bfs(graph, 1, visited)"
   ]
  },
  {
   "cell_type": "markdown",
   "metadata": {},
   "source": [
    "DFS, BFS는 무엇을 탐색하는 것과 관련이 되는 알고리즘이다.   \n",
    "따라서 이차원 배열이 주어지고 무엇을 탐색해야하는 경우가 발생하면    \n",
    "1. 이차원 배열을 **그래프**로 변형할 수 있는지 고민하고\n",
    "2. 그래프로 변형이 가능하면 DFS, BFS로 탐색할 수 있을지 고민해라\n",
    "    - 그래프로 변형이 가능한 경우는 이차원 배열에서 **연결**의 관계가 주어질 때 고민해볼 수 있다\n",
    "3. 이 때 DFS, BFS중 무엇을 고를지는 개념적으로 깊이 혹은 너비 중심으로 탐색을 해야하는지를 고민해야한다"
   ]
  },
  {
   "cell_type": "code",
   "execution_count": 9,
   "metadata": {},
   "outputs": [
    {
     "name": "stdout",
     "output_type": "stream",
     "text": [
      "4 5\n",
      "00110\n",
      "00011\n",
      "11111\n",
      "00000\n",
      "3\n"
     ]
    }
   ],
   "source": [
    "#연습문제 1. 음료수 얼려먹기\n",
    "#구멍이 뚫려있는 경우 0, 닫혀있는 경우1\n",
    "#상화좌우로 0이 있으면 붙어있다고 가정 -> 그래프 형태로 변형 가능\n",
    "#생성 가능한 총 아이스크림 개수 -> 최대로 가능한 아이스크림 개수\n",
    "n, m = map(int, input().split())\n",
    "\n",
    "graph = [] #기본배열\n",
    "for i in range(n): #그래프 입력\n",
    "    graph.append(list(map(int, input()))) #1줄씩 추가\n",
    "    \n",
    "#최대한 많은 경우를 탐색하여야 하기 때문에 dfs와 관련된 문제일 것이다\n",
    "#문제는 입력 그래프와 방문처리를 어떻게 할 것인가와 연관이 된다\n",
    "#상하좌우로 이동하면서 방문처리를 해야한다\n",
    "#시작을 어떻게 주어야할까? (1,1)형태로?\n",
    "\n",
    "#풀이과정\n",
    "#[][]와 같이 인덱스로 한 value씩 접근\n",
    "#접근 지점이 인덱스를 벗어나지 않았으면 방문확인 실시\n",
    "#0인 경우 방문처리를 하고 해당 value를 1로 변경\n",
    "#방문처리가 되면 상,하,좌,우 방향에 대해서 dfs를 재귀적으로 사용하여서 방문처리를 실시\n",
    "#만약 모든 방문처리가 완료가 되면 4방향 dfs를 완료하고 종료. 여기서 종료에 대한 output은 True\n",
    "#어떤경우에도 충족하지 않으면 output은 False\n",
    "#원소 탐색은 행, 열 단위로 탐색을 해야하기 때문에 이중 for문을 사용\n",
    "\n",
    "def dfs(x, y):\n",
    "    if x <= -1 or x >= n or y <= -1 or y >= m:\n",
    "        return False\n",
    "    \n",
    "    #방문하지 않은 경우에 방문처리를 시작하고 상, 하, 좌, 우 탐색을  재귀적으로 실시\n",
    "    if graph[x][y] == 0:\n",
    "        graph[x][y] = 1 #visited라는 배열을 따로 만들지 않고 원소 변경으로 방문 처리를 실시\n",
    "        \n",
    "        dfs(x-1, y) \n",
    "        dfs(x, y-1)\n",
    "        dfs(x +1, y)\n",
    "        dfs(x, y+1)\n",
    "        return True\n",
    "    \n",
    "    return False #원소가 1인 경우에는 작업을 수행하지 않음\n",
    "\n",
    "result = 0\n",
    "for i in range(n):\n",
    "    for j in range(m):\n",
    "        if dfs(i, j) == True:\n",
    "            result += 1\n",
    "\n",
    "print(result)"
   ]
  },
  {
   "cell_type": "code",
   "execution_count": 15,
   "metadata": {},
   "outputs": [
    {
     "name": "stdout",
     "output_type": "stream",
     "text": [
      "5 6\n",
      "101010\n",
      "111111\n",
      "000001\n",
      "111111\n",
      "111111\n",
      "10\n"
     ]
    }
   ],
   "source": [
    "#연습문제 2. 미로탈출\n",
    "#시작 위치가 (1,1)로 주어지고 미로의 출구는 (N, M)\n",
    "#0은 괴물의 위치, 1은 통로. 0을 피해서 (1,1) -> (N, M)으로 이동하기 위한 최소의 경우 수\n",
    "\n",
    "n, m = map(int, input().split())\n",
    "\n",
    "graph = []\n",
    "for i in range(n):\n",
    "    graph.append(list(map(int, input())))\n",
    "    \n",
    "#풀이과정\n",
    "#탐색 경로를 깊게 들어가는 것이 아니라 얕게 탐색해나가면 되기 때문에 \n",
    "#최소 경로 탐색과 관련이 있는 bfs를 사용하는 것이 타당할 것\n",
    "#queue가 비워질 떄 까지 행위를 반복해야함\n",
    "#queue에 들어갈 원소는 [x][y]같은 인덱스여야 하고\n",
    "#그 인덱스에 해당하는 값을 그래프에 업데이트 하는 방향으로 전개하면 타당함\n",
    "#상, 하, 좌, 우를 움직이면서 탐색해야 하므로 이동을 할 수 있는 방향벡터가 생성되어야 함\n",
    "\n",
    "dx = [-1, 1, 0, 0] #상, 하, 좌, 우 이동에 따른 x, y 방향벡터 구현\n",
    "dy = [0, 0, -1, 1]\n",
    "\n",
    "def bfs(x, y):\n",
    "    queue = deque()\n",
    "    queue.append((x, y))\n",
    "    \n",
    "    while queue:\n",
    "        x, y = queue.popleft() #가장 첫 시작의 인덱스를 추출\n",
    "        \n",
    "        for i in range(4): #4방향으로 이동을 실시\n",
    "            nx = x + dx[i] \n",
    "            ny = y + dy[i]\n",
    "            \n",
    "            if nx < 0 or nx >= n or ny < 0 or ny >= m:\n",
    "                continue\n",
    "                \n",
    "            if graph[nx][ny] == 0:\n",
    "                continue\n",
    "                \n",
    "            if graph[nx][ny] == 1:\n",
    "                graph[nx][ny] = graph[x][y] + 1\n",
    "                queue.append((nx, ny)) #방문처리한 인접한 노드를 queue에 넣고\n",
    "                #for문이 끝나면 자연스럽게 먼저 들어간 노드의 인덱스가 start가 됨\n",
    "                #설령 start로 지정된 노드가 이동을 못하더라도 그 다음 경우의 노드가 존재하기 때문에\n",
    "                #조건이 충족한 경우에만  value를 추가하므로 최소값을 보장할 수 있음\n",
    "    \n",
    "    return graph[n - 1][m -1]\n",
    "\n",
    "print(bfs(0, 0))"
   ]
  },
  {
   "cell_type": "code",
   "execution_count": 40,
   "metadata": {},
   "outputs": [
    {
     "name": "stdout",
     "output_type": "stream",
     "text": [
      "4 4 2 1\n",
      "1 2\n",
      "1 3\n",
      "2 3\n",
      "2 4\n"
     ]
    }
   ],
   "source": [
    "#실전문제 1. 특정 거리의 도시찾기\n",
    "#도시의 개수 n, 도로의 개수 m, 최단 거리 충족수 K, 출발번호 X\n",
    "#X에서 출발하여 최단거리 K에 해당하는 도달 가능한 도시의 번호를 모두 출력\n",
    "#dfs에 해당하는 문제\n",
    "#출발점에서 최대한 뻗어나가는데 K를 만족하는 경우에는 멈추고 해당 도시 번호를 확인\n",
    "\n",
    "n, m, k, x = map(int, input().split())\n",
    "\n",
    "road = [] #도로의 개수만큼 빈 리스트 생성\n",
    "\n",
    "for i in range(m):\n",
    "    road.append(list(map(int, input().split())))\n",
    "    \n",
    "graph = [[] for _ in range(n)]\n",
    "for city in road:\n",
    "    graph[city[0]].append(city[1])\n",
    "    \n",
    "visited = [False] \n",
    "\n",
    "def dfs(graph, x, visited): #v는 시작인덱스, visited는 방문 여부를 담은 리스트\n",
    "    visited[x] = True\n",
    "    print(x, end = ' ')\n",
    "    \n",
    "    for i in graph[x]: #시작 인덱스에 해당하는 연결들을 iter\n",
    "        if not visited[i]: #해당 인덱스 노드를 방문하지 않았을 때\n",
    "            dfs(graph, i, visited)\n",
    "            #그런데 dfs 종료를 어떻게?"
   ]
  },
  {
   "cell_type": "code",
   "execution_count": 48,
   "metadata": {},
   "outputs": [
    {
     "name": "stdout",
     "output_type": "stream",
     "text": [
      "4 4 1 1\n",
      "1 2\n",
      "1 3\n",
      "2 3\n",
      "2 4\n",
      "2\n",
      "3\n"
     ]
    }
   ],
   "source": [
    "#오답풀이\n",
    "#도시간의 거리는 모두 1로 고정되어 있다\n",
    "#너비 탐색에 따른 비용이 모두 동일하므로 탐색시 그에 해당하는 최단거리 또한 구할 수 있다\n",
    "#따라서 DFS가 아닌 BFS로 문제를 접근해야 한다\n",
    "\n",
    "n, m, k, x = map(int, input().split())\n",
    "\n",
    "graph = [[] for _ in range(n + 1)] \n",
    "#이와 같이 작성하는 부분은 일정부분 맞게 풀이하였음\n",
    "#그러나 접근법이 잘못되어서 제대로 사용하지 못함\n",
    "\n",
    "for i in range(m):\n",
    "    a, b = map(int, input().split()) \n",
    "    graph[a].append(b)#list 첫 index는 도시, 그 안의 value는 연결되어 있는 도시의 번호로 기입\n",
    "    \n",
    "#도시에 대한 거리 행렬 생성\n",
    "distance = [-1] * (n + 1) \n",
    "#거리 행렬의 index는 도시 번호. x인덱스를 기준으로 하나씩 체크해가면서 안의 distance 값을 변경할 것\n",
    "#최종 거리행렬에서 k값에 해당하는 인덱스가 존재할 경우 이를 print하면 될것\n",
    "\n",
    "distance[x] = 0 #초기 시작점의 거리를 0으로 초기화\n",
    "    \n",
    "q = deque([x]) #초기위치를 q에 할당\n",
    "while q:\n",
    "    now = q.popleft() #시작위치를 설정\n",
    "    \n",
    "    for next_node in graph[now]: #인접행렬에서 now인덱스 도시와 연결되어 있는 도시들을 추출\n",
    "        if distance[next_node] == -1:\n",
    "            distance[next_node] = distance[now] + 1 \n",
    "            #이전 거리를 기억해서 -1이 아닌경우에만 이전거리 + 1\n",
    "            #즉 이어진 도시의 거리를 측량하도록 \n",
    "            q.append(next_node)\n",
    "\n",
    "#K에 해당하는 도시가 존재하는지를 check\n",
    "check = False\n",
    "for i in range(1, n + 1): #도시 번호, 거리 행렬 index에 해당\n",
    "    if distance[i] == k: #index순서대로 k에 값에 해당하는지를 체크, 따라서 오름차순 정렬 조건을 충족함\n",
    "        print(i)\n",
    "        check = True\n",
    "\n",
    "if check == False:\n",
    "    print(-1)"
   ]
  },
  {
   "cell_type": "markdown",
   "metadata": {},
   "source": [
    "## 실전문제 1로 바라본 BFS\n",
    "- 그래프에서 모든 노드간의 간선의 정보가 동일하다면 BFS로 최단거리를 구할 수 있다\n",
    "- 최단거리에 해당하는 어떤 노드를 찾기 위해서는 그를 reference하는 vistied, distance리스트가 필요하다\n",
    "- distacne인덱스를 노드 번호, 값을 이동 거리로 설정하면 조건거리에 해당하는 도시를 찾을 수 있다"
   ]
  },
  {
   "cell_type": "code",
   "execution_count": null,
   "metadata": {},
   "outputs": [],
   "source": []
  }
 ],
 "metadata": {
  "kernelspec": {
   "display_name": "Python 3",
   "language": "python",
   "name": "python3"
  },
  "language_info": {
   "codemirror_mode": {
    "name": "ipython",
    "version": 3
   },
   "file_extension": ".py",
   "mimetype": "text/x-python",
   "name": "python",
   "nbconvert_exporter": "python",
   "pygments_lexer": "ipython3",
   "version": "3.7.7"
  }
 },
 "nbformat": 4,
 "nbformat_minor": 4
}
