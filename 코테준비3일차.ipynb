{
 "cells": [
  {
   "cell_type": "markdown",
   "metadata": {},
   "source": [
    "## 4. 정렬\n",
    "- 데이터를 특정한 기준에 따라 순서대로 나열하는 것\n",
    "- 이진탐색 알고리즘을 구현하기 위해 수행되는 전처리 단계\n",
    "- 오름차순, 내림차순 같이 익숙한 정렬의 방식들을 어떻게 코드로 구현할 것인지"
   ]
  },
  {
   "cell_type": "markdown",
   "metadata": {},
   "source": [
    "### 1) 선택정렬\n",
    "- 처리되지 않은 데이터 중 가장 작은 데이터를 **선택**하여 **맨 앞에 있는 데이터**와 위치를 변경\n",
    "- 이중 반복문을 통해서 구현할 수 있음"
   ]
  },
  {
   "cell_type": "code",
   "execution_count": 1,
   "metadata": {},
   "outputs": [
    {
     "name": "stdout",
     "output_type": "stream",
     "text": [
      "[0, 1, 2, 3, 4, 5, 6, 7, 8, 9]\n"
     ]
    }
   ],
   "source": [
    "#선택정렬 예시\n",
    "array = [7, 5, 9, 0, 3, 1, 6, 2, 4, 8]\n",
    "\n",
    "for i in range(len(array)): #매 시행의 첫 인덱스를 호출\n",
    "    min_index = i #바꾸고자 하는 가장 처음 인덱스 위치\n",
    "    for j in range(i + 1, len(array)): #최소값을 찾기위한 시행\n",
    "        if array[min_index] > array[j]:\n",
    "            min_index = j \n",
    "            #가장 작은 값을 가지는 인덱스가 계속해서 바뀌게 함\n",
    "            #처음에는 i번째 인덱스 값과 다른 인덱스값과 비교하여 그 값의 인덱스를 min_index로 할당하고\n",
    "            #다시 그 min_index와 다른 값과 비교하여 작으면 재할당, 크면 그대로 min_index를 가지고 감\n",
    "            \n",
    "    array[i], array[min_index] = array[min_index], array[i] \n",
    "    #이와 같이 인덱스별 값을 서로 바꾸는 것을 스와프라고 함\n",
    "    \n",
    "print(array)"
   ]
  },
  {
   "cell_type": "markdown",
   "metadata": {},
   "source": [
    "### 2) 삽입정렬\n",
    "- 처리되지 않은 데이터를 하나 골라 **적절한 위치**에 삽입\n",
    "- 선택정렬보다 효율적으로 동작하는 알고리즘"
   ]
  },
  {
   "cell_type": "code",
   "execution_count": 4,
   "metadata": {},
   "outputs": [
    {
     "name": "stdout",
     "output_type": "stream",
     "text": [
      "[0, 1, 2, 3, 4, 5, 6, 7, 8, 9]\n"
     ]
    }
   ],
   "source": [
    "#삽입정렬 예시\n",
    "array = [7, 5, 9, 0, 3, 1, 6, 2, 4, 8]\n",
    "\n",
    "for i in range(1, len(array)):\n",
    "    for j in range(i, 0, -1):\n",
    "        #파이썬에서 range의 시작값을 크게하고 끝값을 작게, 그리고 - 단위로 step을 할 경우\n",
    "        #시작값부터 step만큼 줄이면서 끝값의 +1까지 도달\n",
    "        #여기서는 i가 커짐에 따라서 1, 2 1, 3 2 1, 4 3 2 1, 형식으로 반복문이 변하게 됨\n",
    "        \n",
    "        if array[j] < array[j-1]: #1 0, 2 1, 1 0... 형식으로 뒤의 인덱스를 앞의 인덱스와 비교하여서 값을 변경\n",
    "            array[j], array[j-1] = array[j-1], array[j]\n",
    "        else: #값이 같아지거나 작아지는 경우에는 중지\n",
    "            break \n",
    "            \n",
    "print(array)"
   ]
  },
  {
   "cell_type": "markdown",
   "metadata": {},
   "source": [
    "### 3) 퀵 정렬\n",
    "- **기준 데이터를 설정**, 그 기준보다 큰 데이터와 작은 데이터의 위치를 바꾸는 방법\n",
    "- 일반적인 상황에서 가장 많이 사용되는 정렬 알고리즘\n",
    "- 이 책에서는 피벗 값을 사용하여 퀵정렬을 수행하는 예시를 알려준다"
   ]
  },
  {
   "cell_type": "code",
   "execution_count": 7,
   "metadata": {},
   "outputs": [
    {
     "name": "stdout",
     "output_type": "stream",
     "text": [
      "[0, 1, 2, 3, 4, 5, 6, 7, 8, 9]\n"
     ]
    }
   ],
   "source": [
    "#퀵 정렬 예시\n",
    "array = [5, 7, 9, 0, 3, 1, 6, 2, 4, 8]\n",
    "\n",
    "def quick_sort(array, start, end):\n",
    "    if start >= end: #원소가 1개만 있는 경우\n",
    "        return\n",
    "    pivot = start #start값을 pivot값으로 설정\n",
    "    left = start + 1\n",
    "    right = end\n",
    "    \n",
    "    while(left <= right): \n",
    "        \n",
    "        #pivot값보다 큰 데이터를 찾을때까지 왼쪽 분할 인덱스 기준값을 하나씩 늘리기\n",
    "        while(left <= end and array[left] <= array[pivot]): #피벗값 기준으로 무조건 작은 값을 찾아야함\n",
    "            left += 1\n",
    "        #pivot값보다 작은 데이터를 찾을때까지 오른쪽 분할 인덱스 기준값을 하나씩 줄이기\n",
    "        while(right > start and array[right] >= array[pivot]): #피벗값 기준으로 무조건 큰 값을 찾아야함\n",
    "            right -= 1\n",
    "        if left > right: #왼쪽, 오른쪽 인덱스가 엇갈린 경우 가장 작은 데이터와 피벗을 교체\n",
    "            array[right], array[pivot] = array[pivot], array[right]\n",
    "        else: #왼쪽, 오른쪽 인덱스가 엇갈리지 않은 경우 서로의 값을 스와프\n",
    "            array[left], array[right] = array[right], array[left]\n",
    "            \n",
    "    #분할 이후 왼쪽 부분, 오른쪽 부분에서 다시 퀵정렬을 각각 수행\n",
    "    quick_sort(array, start, right -1)\n",
    "    quick_sort(array, right +1, end)\n",
    "    \n",
    "quick_sort(array, 0, len(array)-1)\n",
    "print(array)"
   ]
  },
  {
   "cell_type": "code",
   "execution_count": 11,
   "metadata": {},
   "outputs": [
    {
     "name": "stdout",
     "output_type": "stream",
     "text": [
      "[0, 3, 1, 2, 4] [7, 9, 6, 8]\n",
      "[] [3, 1, 2, 4]\n",
      "[1, 2] [4]\n",
      "[] [2]\n",
      "[6] [9, 8]\n",
      "[8] []\n",
      "[0, 1, 2, 3, 4, 5, 6, 7, 8, 9]\n"
     ]
    }
   ],
   "source": [
    "#리스트 컴프리헨션으로 쉽게 구현하기\n",
    "array = [5, 7, 9, 0, 3, 1, 6, 2, 4, 8]\n",
    "\n",
    "def quick_sort(array):\n",
    "    \n",
    "    #원소가 하나만 있는 리스트의 경우 정렬을 수행하지 않음\n",
    "    if len(array) <= 1:\n",
    "        return array\n",
    "    \n",
    "    pivot = array[0]\n",
    "    tail = array[1:]\n",
    "    \n",
    "    left_side = [x for x in tail if x <= pivot] #pivot값보다 작거나 같은 원소들을 왼쪽분할로 할당\n",
    "    right_side = [x for x in tail if x > pivot] #pivot값보다 큰 원소들을 오른족 분할로 할당\n",
    "    print(left_side, right_side)\n",
    "    \n",
    "    return quick_sort(left_side) + [pivot] + quick_sort(right_side)\n",
    "\n",
    "print(quick_sort(array))"
   ]
  },
  {
   "cell_type": "markdown",
   "metadata": {},
   "source": [
    "### 4) 계수 정렬\n",
    "- 데이터의 **크기 범위가 제한**되어 있고, **정수 형태**로 표현되어 있을때 사용 가능한 정렬방법\n",
    "- 위의 제약조건이 지켜진다면 매우 빠르게 동작하는 정렬 알고리즘\n",
    "- 인덱스 테이블을 만들어서 **해당 인덱스에 해당하는 값이 몇번 등장했는지를 기록**\n",
    "- 최종 기록된 인덱스 테이블을 바탕으로 각 위치의 인덱스를 값으로 변환하여 인덱스가 등장한 만큼 재변환"
   ]
  },
  {
   "cell_type": "code",
   "execution_count": 12,
   "metadata": {},
   "outputs": [
    {
     "name": "stdout",
     "output_type": "stream",
     "text": [
      "0 0 1 1 2 2 3 4 5 5 6 7 8 9 9 "
     ]
    }
   ],
   "source": [
    "#계수 정렬 예시\n",
    "array = [7, 5, 9, 0, 3, 1, 6, 2, 9, 1, 4, 8, 0, 5, 2]\n",
    "\n",
    "count = [0] * (max(array) + 1) \n",
    "#모든 범위를 포함하는 리스트 초기화\n",
    "#계수 정렬이 정수형태로 표현되었을 때만 가능한 이유가 이와 같음. 실수의 경우에는 인덱스 값을 활용할 수 없기 때문\n",
    "\n",
    "for i in range(len(array)): #인덱스 테이블 마다 등장 횟수로 값을 채움\n",
    "    count[array[i]] += 1\n",
    "\n",
    "for i in range(len(count)):\n",
    "    for j in range(count[i]):\n",
    "        print(i, end = ' ') #단순 기록된 횟수만큼 해당 인덱스를 반복 출력"
   ]
  },
  {
   "cell_type": "markdown",
   "metadata": {},
   "source": [
    "## 파이썬 기본 정렬 라이브러리 이용"
   ]
  },
  {
   "cell_type": "code",
   "execution_count": 14,
   "metadata": {},
   "outputs": [
    {
     "name": "stdout",
     "output_type": "stream",
     "text": [
      "[0, 1, 2, 3, 4, 5, 6, 7, 8, 9]\n"
     ]
    }
   ],
   "source": [
    "array = [5, 7, 9, 0, 3, 1, 6, 2, 4, 8]\n",
    "\n",
    "array.sort() #원본을 변경하여 내림차순 정렬\n",
    "print(array)"
   ]
  },
  {
   "cell_type": "code",
   "execution_count": 15,
   "metadata": {},
   "outputs": [
    {
     "name": "stdout",
     "output_type": "stream",
     "text": [
      "[0, 1, 2, 3, 4, 5, 6, 7, 8, 9]\n",
      "[5, 7, 9, 0, 3, 1, 6, 2, 4, 8]\n"
     ]
    }
   ],
   "source": [
    "array = [5, 7, 9, 0, 3, 1, 6, 2, 4, 8]\n",
    "\n",
    "result = sorted(array)\n",
    "print(result)\n",
    "print(array)"
   ]
  },
  {
   "cell_type": "code",
   "execution_count": 16,
   "metadata": {},
   "outputs": [
    {
     "name": "stdout",
     "output_type": "stream",
     "text": [
      "[9, 8, 7, 6, 5, 4, 3, 2, 1, 0]\n"
     ]
    }
   ],
   "source": [
    "#내림차순 정렬\n",
    "array = [5, 7, 9, 0, 3, 1, 6, 2, 4, 8]\n",
    "\n",
    "result = sorted(array, reverse = True)\n",
    "print(result)"
   ]
  },
  {
   "cell_type": "code",
   "execution_count": 17,
   "metadata": {},
   "outputs": [
    {
     "name": "stdout",
     "output_type": "stream",
     "text": [
      "[9, 8, 7, 6, 5, 4, 3, 2, 1, 0]\n"
     ]
    }
   ],
   "source": [
    "array = [5, 7, 9, 0, 3, 1, 6, 2, 4, 8]\n",
    "\n",
    "array.sort(reverse = True) #원본을 변경하여 내림차순 정렬\n",
    "print(array)"
   ]
  },
  {
   "cell_type": "code",
   "execution_count": 30,
   "metadata": {
    "scrolled": true
   },
   "outputs": [
    {
     "name": "stdout",
     "output_type": "stream",
     "text": [
      "3\n",
      "15\n",
      "17\n",
      "12\n"
     ]
    }
   ],
   "source": [
    "#실전문제 1. 위에서 아래로\n",
    "#주어진 수열을 내림차순으로 정렬하는 프로그램\n",
    "n = int(input())\n",
    "numbers = []\n",
    "for i in range(n):\n",
    "    numbers.append(int(input()))"
   ]
  },
  {
   "cell_type": "code",
   "execution_count": 27,
   "metadata": {},
   "outputs": [
    {
     "name": "stdout",
     "output_type": "stream",
     "text": [
      "[27, 15, 12]\n"
     ]
    }
   ],
   "source": [
    "#선택정렬 이용\n",
    "for i in range(len(numbers)):\n",
    "    max_index = i\n",
    "    for j in range(i+1, len(numbers)):\n",
    "        if numbers[max_index] < numbers[j]: #내림차순으로 정렬해야 하므로\n",
    "            max_index = j\n",
    "            \n",
    "    numbers[i], numbers[max_index] = numbers[max_index], numbers[i]\n",
    "    \n",
    "print(numbers)"
   ]
  },
  {
   "cell_type": "code",
   "execution_count": 29,
   "metadata": {},
   "outputs": [
    {
     "name": "stdout",
     "output_type": "stream",
     "text": [
      "[27, 15, 12]\n"
     ]
    }
   ],
   "source": [
    "#삽입정렬 이용\n",
    "for i in range(1, len(numbers)):\n",
    "    for j in range(i, 0, -1):\n",
    "        if numbers[j] > numbers[j-1]: #뒤 인덱스의 값이 앞 인덱스값보다 큰 경우에 삽입하도록\n",
    "            numbers[j], numbers[j-1] = numbers[j-1], numbers[j]\n",
    "        else:\n",
    "            break\n",
    "            \n",
    "print(numbers)"
   ]
  },
  {
   "cell_type": "code",
   "execution_count": 32,
   "metadata": {},
   "outputs": [
    {
     "name": "stdout",
     "output_type": "stream",
     "text": [
      "[17, 15, 12]\n"
     ]
    }
   ],
   "source": [
    "#퀵 정렬 이용\n",
    "def quick_sort(array):\n",
    "    \n",
    "    if len(array) <= 1: \n",
    "        #반드시 원소가 한개만 존재할 때의 제약조건을 걸어야함\n",
    "        #그렇지 않을경우 제대로 동작하지 않음\n",
    "        return array\n",
    "    \n",
    "    pivot = array[0]\n",
    "    tail = array[1:]\n",
    "    \n",
    "    left_part = [x for x in tail if x > pivot]\n",
    "    right_part = [x for x in tail if x<= pivot]\n",
    "    \n",
    "    return quick_sort(left_part) + [pivot] + quick_sort(right_part)\n",
    "\n",
    "print(quick_sort(numbers))"
   ]
  },
  {
   "cell_type": "code",
   "execution_count": 37,
   "metadata": {},
   "outputs": [
    {
     "name": "stdout",
     "output_type": "stream",
     "text": [
      "17 15 12 "
     ]
    }
   ],
   "source": [
    "#계수 정렬 이용\n",
    "result = [0] * (max(numbers) + 1)\n",
    "\n",
    "for i in range(len(numbers)):\n",
    "    result[numbers[i]] += 1\n",
    "    \n",
    "for i in reversed(range(len(result))): #내림차순으로 출력해야 하기 때문에 인덱스를 큰 순서부터 iter하도록\n",
    "    for j in range(result[i]):\n",
    "        print(i, end = ' ')"
   ]
  },
  {
   "cell_type": "code",
   "execution_count": 38,
   "metadata": {},
   "outputs": [
    {
     "name": "stdout",
     "output_type": "stream",
     "text": [
      "[17, 15, 12]\n"
     ]
    }
   ],
   "source": [
    "#파이썬 라이브러리 이용\n",
    "result = sorted(numbers, reverse = True)\n",
    "print(result)"
   ]
  },
  {
   "cell_type": "code",
   "execution_count": 41,
   "metadata": {},
   "outputs": [
    {
     "name": "stdout",
     "output_type": "stream",
     "text": [
      "2\n",
      "홍길동 95\n",
      "이순신 77\n",
      "이순신 홍길동 "
     ]
    }
   ],
   "source": [
    "#실전문제 2. 성적이 낮은 순서로 학생출력\n",
    "#학생의 이름과 성적이 주어졌을때 성적이 낮은순서대로 학생이름을 출력\n",
    "\n",
    "n = int(input())\n",
    "ss_list = []\n",
    "for i in range(n): #튜플형태로 입력하고자 할 때\n",
    "    input_data = input().split() \n",
    "    ss_list.append((input_data[0], int(input_data[1])))\n",
    "    \n",
    "#선택정렬\n",
    "for i in range(len(ss_list)):\n",
    "    min_index = i\n",
    "    for j in range(i+1, len(ss_list)):\n",
    "        if ss_list[j][1] < ss_list[min_index][1]:\n",
    "            min_index = j\n",
    "            \n",
    "    ss_list[i], ss_list[min_index] = ss_list[min_index], ss_list[i]\n",
    "    \n",
    "for i in range(len(ss_list)):\n",
    "    print(ss_list[i][0], end = ' ')"
   ]
  },
  {
   "cell_type": "code",
   "execution_count": 44,
   "metadata": {},
   "outputs": [
    {
     "name": "stdout",
     "output_type": "stream",
     "text": [
      "이순신 홍길동 "
     ]
    }
   ],
   "source": [
    "#삽입정렬\n",
    "for i in range(1, len(ss_list)):\n",
    "    for j in range(i, 0, -1):\n",
    "        if ss_list[j][1] < ss_list[j-1][1]:\n",
    "            ss_list[j], ss_list[j-1] = ss_list[j-1], ss_list[j]\n",
    "        else:\n",
    "            break\n",
    "            \n",
    "for i in range(len(ss_list)):\n",
    "    print(ss_list[i][0], end = ' ')"
   ]
  },
  {
   "cell_type": "code",
   "execution_count": 46,
   "metadata": {},
   "outputs": [
    {
     "name": "stdout",
     "output_type": "stream",
     "text": [
      "2\n",
      "홍길동 95\n",
      "이순신 77\n",
      "이순신 홍길동 "
     ]
    }
   ],
   "source": [
    "#파이썬 라이브러리 이용\n",
    "n = int(input())\n",
    "ss_list = []\n",
    "for i in range(n): #튜플형태로 입력하고자 할 때\n",
    "    input_data = input().split() \n",
    "    ss_list.append((input_data[0], int(input_data[1])))\n",
    "    \n",
    "result = sorted(ss_list, key = lambda x: x[1])\n",
    "\n",
    "for student in result:\n",
    "    print(student[0], end = ' ')"
   ]
  },
  {
   "cell_type": "code",
   "execution_count": 50,
   "metadata": {},
   "outputs": [
    {
     "name": "stdout",
     "output_type": "stream",
     "text": [
      "5 3\n",
      "1 2 5 4 3\n",
      "5 5 6 6 5\n",
      "26\n"
     ]
    }
   ],
   "source": [
    "#실전문제 3\n",
    "#배열 A와 배열 B가 존재. 배열 A와 배열 B각 원소를 최대 K만큼 바꿀 수 있음\n",
    "#배열 A의 합이 최대가 되도록 배열 A와 배열 B의 원소를 K번 교체하는 프로그래밍\n",
    "\n",
    "#A는 오름차순, B는 내림차순 정렬후\n",
    "#A의 첫번째 값을 B의 첫번째 값과 변경\n",
    "#이러한 반복을 K번 시행한 후 A의 합 구하기\n",
    "\n",
    "n, k = map(int, input().split())\n",
    "a = list(map(int, input().split()))\n",
    "b = list(map(int, input().split()))\n",
    "\n",
    "a.sort()\n",
    "b.sort(reverse = True)\n",
    "\n",
    "for i in range(k):\n",
    "    if a[i] < b[i]: #a의 해당하는 값이 b보다 작다는 조건이 무조건 있어야 함\n",
    "        a[i], b[i] = b[i], a[i]\n",
    "    else: #a의 원소가 b보다 크거나 같은 경우 반복문 중지\n",
    "        break\n",
    "\n",
    "print(sum(a))"
   ]
  },
  {
   "cell_type": "markdown",
   "metadata": {},
   "source": [
    "## 5. 이진탐색\n",
    "- 리스트 내에 있는 데이터를 매우 빠르게 탐색하는 알고리즘\n",
    "- 순차탐색: 리스트 내의 데이터를 **앞에서부터 하나씩** 확인하는 방법\n",
    "- 이진탐색: 리스트 내의 데이터를 **탐색 범위를 절반씩 좁혀가며** 데이터를 탐색하는 방법\n",
    "    - 시작점, 끝점, 중간점을 설정하여서 이진탐색을 구현한다\n",
    "    - 1) 리스트에서 첫 인덱스를 시작점, 끝 인덱스를 끝점 그리고 그 사이 값들의 중간값을 중간점으로 설정\n",
    "    - 2) 찾고자 하는 값과 중간점을 비교하여 중간점이 해당 값보다 큰 경우 끝점을 중간점 왼쪽 위치로 할당\n",
    "    - 3) 새로 중간값의 위치에 중간점 할당\n",
    "    - 4) 찾고자 하는 값과 중간점을 비교하여 중간점이 해당 값보다 작은 경우 시작점을 중간점 위치로 할당\n",
    "    - 5) 원하고자 하는 점과 중간점이 일치할 때 까지 반복"
   ]
  },
  {
   "cell_type": "code",
   "execution_count": 53,
   "metadata": {},
   "outputs": [
    {
     "name": "stdout",
     "output_type": "stream",
     "text": [
      "10 7\n",
      "1 3 5 7 9 11 13 15 17 19\n",
      "4\n"
     ]
    }
   ],
   "source": [
    "#이진탐색 구현\n",
    "#재귀함수로 구현\n",
    "def binary_search(array, target, start, end): #start,end는 시작점, 끝점 인덱스\n",
    "    if start > end: #탐색 범위가 잘못 설정된 경우\n",
    "        return None\n",
    "    \n",
    "    mid = (start + end) // 2 #소수점을 버리고 몫만 반환. 이를 중간점 인덱스로 활용\n",
    "    \n",
    "    if array[mid] == target:\n",
    "        return mid\n",
    "    elif array[mid] > target: #중간점의 값이 target보다 큰 경우 끝점을 중간값 왼쪽으로 이동\n",
    "        return binary_search(array, target, start, mid-1)\n",
    "    else: #중간점의 값이 target보다 작은 경우 시작점을 중간값 오른쪽으로 이동\n",
    "        return binary_search(array, target, mid +1, end)\n",
    "    \n",
    "n, target = map(int, input().split())\n",
    "array = list(map(int, input().split()))\n",
    "\n",
    "result = binary_search(array, target, 0, n-1)\n",
    "if result == None:\n",
    "    print('원소가 존재하지 않습니다')\n",
    "else:\n",
    "    print(result + 1) #파이썬 인덱스가 아닌 사람이 인식하는 인덱스번호를 반환"
   ]
  },
  {
   "cell_type": "code",
   "execution_count": 55,
   "metadata": {},
   "outputs": [
    {
     "name": "stdout",
     "output_type": "stream",
     "text": [
      "10 7\n",
      "1 3 5 7 9 11 13 15 17 19\n",
      "4\n"
     ]
    }
   ],
   "source": [
    "#반복문으로 구현\n",
    "def binary_search(array, target, start, end):\n",
    "    while start <= end:\n",
    "        mid = (start+end) // 2\n",
    "        \n",
    "        if array[mid] == target:\n",
    "            return mid\n",
    "        \n",
    "        elif array[mid] > target:\n",
    "            end = mid -1\n",
    "            \n",
    "        else:\n",
    "            start = mid + 1\n",
    "    return None \n",
    "    #start = end, start >end가 도달함에도 while안 return이 수행되지 않으면 실패로 규정하고 None반환\n",
    "\n",
    "n, target = map(int, input().split())\n",
    "array = list(map(int, input().split()))\n",
    "\n",
    "result = binary_search(array, target, 0, n-1)\n",
    "if result == None:\n",
    "    print('원소가 존재하지 않습니다')\n",
    "else:\n",
    "    print(result + 1)"
   ]
  },
  {
   "cell_type": "code",
   "execution_count": 56,
   "metadata": {},
   "outputs": [
    {
     "name": "stdout",
     "output_type": "stream",
     "text": [
      "2\n",
      "4\n"
     ]
    }
   ],
   "source": [
    "#파이썬 이진 탐색 라이브러리\n",
    "#정렬된 리스트 내에서 특정 값 x가 들어갈 인덱스를 반환\n",
    "\n",
    "from bisect import bisect_left, bisect_right\n",
    "\n",
    "a = [1, 2, 4, 4, 8]\n",
    "x = 4\n",
    "\n",
    "print(bisect_left(a, 4)) #a배열내 4라는 값이 들어갈 첫 위치는 2 값 다음인 인덱스 2\n",
    "print(bisect_right(a, 4)) #a배열내 4라는 값이 들어갈 마지막 위치는 마지막 4값 다음인 인덱스 4"
   ]
  },
  {
   "cell_type": "code",
   "execution_count": 57,
   "metadata": {},
   "outputs": [
    {
     "name": "stdout",
     "output_type": "stream",
     "text": [
      "2\n",
      "6\n"
     ]
    }
   ],
   "source": [
    "#bisect를 이용하여 특정 범위에 속하는 데이터 개수 구하기\n",
    "from bisect import bisect_left, bisect_right\n",
    "\n",
    "def count_by_range(a, left_val, right_val):\n",
    "    right_ind = bisect_right(a, right_val)\n",
    "    left_ind = bisect_left(a, left_val)\n",
    "    return right_ind - left_ind\n",
    "\n",
    "a = [1, 2, 3, 3, 3, 3, 4, 4, 8, 9]\n",
    "\n",
    "#4인 값이 몇개 있는가?\n",
    "print(count_by_range(a, 4, 4))\n",
    "\n",
    "#-1 ~ 3범위 안에 있는 값들은 몇개인가?\n",
    "print(count_by_range(a, -1, 3))"
   ]
  },
  {
   "cell_type": "markdown",
   "metadata": {},
   "source": [
    "### 파라메트릭 서치\n",
    "- 최적화 문제(출력값의 최소, 최대화)를 결정 문제(예 혹은 아니오)로 바꾸어 해결하는 기법\n",
    "    - 예로 특정한 조건에 맞는 적절한 값을 찾는 경우\n",
    "    - 즉 여러번에 걸쳐 결정을 통해서 최적의 값을 찾는 것\n",
    "- 이 또한 이진 탐색을 통하여 해결 가능\n",
    "    - 이진 탐색으로 탐색 범위를 좁혀가며 검색"
   ]
  },
  {
   "cell_type": "code",
   "execution_count": 60,
   "metadata": {},
   "outputs": [
    {
     "name": "stdout",
     "output_type": "stream",
     "text": [
      "5\n",
      "8 3 7 9 2\n",
      "3\n",
      "5 7 9\n",
      "no yes yes "
     ]
    }
   ],
   "source": [
    "#실전문제 1. 부품 찾기\n",
    "#가진 부품 중 손님이 요청한 부품이 있는지 없는지를 찾아서 해당 결과를 yes, no로 반환\n",
    "\n",
    "#위에서 구현한 이진탐색으로 찾기\n",
    "n = int(input())\n",
    "host = list(map(int, input().split()))\n",
    "m = int(input())\n",
    "client = list(map(int, input().split()))\n",
    "\n",
    "def binary_search(a, target, start, end):\n",
    "    while start <= end:\n",
    "        mid = (start + end) // 2\n",
    "        \n",
    "        if a[mid] == target:\n",
    "            return 'yes'\n",
    "        \n",
    "        elif a[mid] > target:\n",
    "            end = mid - 1\n",
    "            \n",
    "        else:\n",
    "            start = mid + 1\n",
    "            \n",
    "    return 'no'\n",
    "\n",
    "for i in client:\n",
    "    print(binary_search(host, i, 0, n-1), end = ' ')"
   ]
  },
  {
   "cell_type": "code",
   "execution_count": 63,
   "metadata": {
    "scrolled": true
   },
   "outputs": [
    {
     "name": "stdout",
     "output_type": "stream",
     "text": [
      "5 \n",
      "8 3 7 9 2\n",
      "3\n",
      "5 7 9\n",
      "no yes yes "
     ]
    }
   ],
   "source": [
    "#bisect로 구현하기\n",
    "from bisect import bisect_left, bisect_right\n",
    "n = int(input())\n",
    "host = list(map(int, input().split()))\n",
    "m = int(input())\n",
    "client = list(map(int, input().split()))\n",
    "\n",
    "def find_number(a, target):\n",
    "    a_sorted = sorted(a)\n",
    "    left_ind = bisect_left(a_sorted, target)\n",
    "    right_ind = bisect_right(a_sorted, target)\n",
    "    \n",
    "    if left_ind != right_ind:\n",
    "        return 'yes'\n",
    "    else:\n",
    "        return 'no'\n",
    "    \n",
    "for i in client:\n",
    "    print(find_number(host, i), end = ' ')"
   ]
  },
  {
   "cell_type": "markdown",
   "metadata": {},
   "source": [
    "## 아래와 같이 작성했을 때 백준의 경우 시간초과가 발생함\n",
    "- 즉 효율적이지 못한 코드\n",
    "- 이진탐색을 하는데 굳이 순차탐색을 하나더 추가하는 것 때문에 그런듯"
   ]
  },
  {
   "cell_type": "code",
   "execution_count": 91,
   "metadata": {},
   "outputs": [
    {
     "name": "stdout",
     "output_type": "stream",
     "text": [
      "4 6\n",
      "19 17 15 10\n",
      "15\n"
     ]
    }
   ],
   "source": [
    "#실전문제 2. 떡볶이 떡 만들기\n",
    "#높이 H만큼 떡을 자르는 절단기가 존재\n",
    "#H보다 떡길이가 크면 결과는 H, H보다 작으면 결과는 원래 떡길이 그대로\n",
    "#자르고 남은 떡이 손님이 원하는 떡의 길이. 이 때 떡의 길이를 만족시키는 H의 최대값\n",
    "\n",
    "from bisect import bisect_left, bisect_right\n",
    "n,m = map(int, input().split())\n",
    "ddeoks = list(map(int, input().split()))\n",
    "\n",
    "#H의 범위 설정\n",
    "#범위에 따른 떡 길이생성 함수\n",
    "#범위의 최소값은 1, 최대값은 떡길이이의 최대값과 같음\n",
    "#왜냐하면 H가 작을수록 잘려진 떡길이는 길어지고 반면 떡길이의 최대값에 도달할 수록 잘려진 떡길이는 0에 수렴\n",
    "def get_ddeok_range(a, val):\n",
    "    result = 0\n",
    "    for i in a:\n",
    "        if i > val:\n",
    "            result += (i - val)\n",
    "        else:\n",
    "            pass\n",
    "    return result\n",
    "\n",
    "#생성될 수 있는 떡길이 범위 구하기\n",
    "ddeok_range = []\n",
    "for i in range(1, max(ddeok) + 1):\n",
    "    ddeok_range.append(get_ddeok_range(ddeoks, i))\n",
    "    \n",
    "#최대값 찾기\n",
    "#생성될 수 있는 떡길이 범위를 바탕으로 이진탐색 실시\n",
    "def find_number(a, target):\n",
    "    sorted_a = sorted(a)\n",
    "    left_ind = bisect_left(sorted_a, target) #bisect를 사용하려면 반드시 오름차순 정렬된 리스트가 인자로 들어가야 함\n",
    "    right_ind = bisect_right(sorted_a, target)\n",
    "    \n",
    "    #if left_ind == right_ind: #M이 잘려진 떡길이 범위에 없는 새로운 값일때\n",
    "        #return left_ind \n",
    "    #else:\n",
    "        #return left_ind #M이 잘려진 떡길이 범위에 존재할 때\n",
    "    return left_ind\n",
    "    \n",
    "print(max(ddeoks) - find_number(ddeok_range, m))"
   ]
  },
  {
   "cell_type": "code",
   "execution_count": 7,
   "metadata": {},
   "outputs": [
    {
     "name": "stdout",
     "output_type": "stream",
     "text": [
      "4 10\n",
      "19 15 10 17\n",
      "13\n"
     ]
    }
   ],
   "source": [
    "#모범답안\n",
    "#순차탐색 시행하지 않고 오직 이진탐색만 수행\n",
    "n,m = map(int, input().split())\n",
    "ddeoks = list(map(int, input().split()))\n",
    "\n",
    "#이진 탐색 실시\n",
    "start = 0\n",
    "end = max(ddeoks)\n",
    "\n",
    "result = 0\n",
    "while start <= end:\n",
    "    total = 0 #자른 떡들의 총길이\n",
    "    mid = (start + end) // 2 #여기서 mid는 H에 해당함\n",
    "    \n",
    "    for ddeok in ddeoks:\n",
    "        if ddeok > mid: #H가 ddeok 길이보다 작은 경우\n",
    "            total += ddeok - mid\n",
    "        \n",
    "    if total < m: \n",
    "        #떡길이가 부족한 경우\n",
    "        #H가 작아질수록 떡길이는 커짐\n",
    "        #따라서 end를 줄임으로써 중간값을 작게 함. 왼쪽범위를 탐색해야 하므로 end를 줄여나가야 함\n",
    "        end = mid - 1\n",
    "    else: #떡길이가 m보다 크거나 같은 경우\n",
    "        #떡길이가 처음 m보다 크거나 같은 경우의 h를 매번 result에 기록한다\n",
    "        #h가 커지면 떡길이는 줄어들게 된다. 따라서 조건을 최대한 만족시키는 h를 찾고자 start를 늘린다\n",
    "        #h가 커지려면 범위에서 오른쪽 부분을 탐색해야하므로 start를 늘려나가야 함\n",
    "        start = mid + 1\n",
    "        result = mid\n",
    "        \n",
    "print(result)"
   ]
  },
  {
   "cell_type": "markdown",
   "metadata": {},
   "source": [
    "## 떡볶이 떡 문제로 알아본 이진탐색\n",
    "- 이진탐색에서 찾고자 하는 mid가 문제에서 요구하는 답과 일치하는 경우가 있다\n",
    "- 이는 최적화 해서 찾아야 하는 답이다\n",
    "- 최적해를 언제마다 저장해야 하는지를 고민해야 한다. 원하는 값보다 **크거나 같은 경우**, 혹은 **작거나 큰 경우**에 저장한다"
   ]
  },
  {
   "cell_type": "code",
   "execution_count": 18,
   "metadata": {},
   "outputs": [
    {
     "name": "stdout",
     "output_type": "stream",
     "text": [
      "7 4\n",
      "1 1 2 2 2 2 3\n",
      "-1\n"
     ]
    }
   ],
   "source": [
    "#유튜브 강의 추가 문제\n",
    "#첫째줄에 입력될 수의 개수 N과 찾아야 할 수 x가 입력\n",
    "#둘째줄에 N개의 원소가 입력\n",
    "#x인 원소의 개수 출력, 만약 하나도 없다면 -1을 출력\n",
    "from bisect import bisect_left, bisect_right\n",
    "\n",
    "n,x = map(int, input().split())\n",
    "numbers = list(map(int, input().split()))\n",
    "\n",
    "#x가 없는 원소인 경우: bisect_left, right값이 같음\n",
    "#x가 있는 원소일 경우: bisect_left, right값이 다르고 서로 값에서 빼주면 됨\n",
    "\n",
    "def find_numbers(array, target):\n",
    "    #원래 array를 오름차순 정렬시켜야 하나 입력단계에서 오름차순 정렬로 입력되므로 따로 수행하지 않음\n",
    "    right_ind = bisect_right(array, target)\n",
    "    left_ind = bisect_left(array, target)\n",
    "    \n",
    "    if right_ind != left_ind:\n",
    "        return right_ind - left_ind\n",
    "    else:\n",
    "        return -1\n",
    "    \n",
    "print(find_numbers(numbers, x))"
   ]
  },
  {
   "cell_type": "code",
   "execution_count": null,
   "metadata": {},
   "outputs": [],
   "source": []
  }
 ],
 "metadata": {
  "kernelspec": {
   "display_name": "Python 3",
   "language": "python",
   "name": "python3"
  },
  "language_info": {
   "codemirror_mode": {
    "name": "ipython",
    "version": 3
   },
   "file_extension": ".py",
   "mimetype": "text/x-python",
   "name": "python",
   "nbconvert_exporter": "python",
   "pygments_lexer": "ipython3",
   "version": "3.7.7"
  }
 },
 "nbformat": 4,
 "nbformat_minor": 4
}
