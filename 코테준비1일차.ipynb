{
 "cells": [
  {
   "cell_type": "markdown",
   "metadata": {},
   "source": [
    "## 1. 그리디 알고리즘\n",
    "- 주어진 문제상황에서 최적의 경우를 찾도록 하는 알고리즘을 구성하는 것\n",
    "- 어떤 표준화된 기법이 다른 문제에 비해 적어서 **창의성**을 요구하는 문제\n",
    "- 주로 최소의 경우, 최대의 값 산출 등이 있음"
   ]
  },
  {
   "cell_type": "code",
   "execution_count": 7,
   "metadata": {},
   "outputs": [
    {
     "name": "stdout",
     "output_type": "stream",
     "text": [
      "1260\n",
      "6\n"
     ]
    }
   ],
   "source": [
    "#예제 3-1. 거스름돈 문제\n",
    "#최소의 동전개수를 거슬러주기 위함\n",
    "\n",
    "#내 풀이\n",
    "m = int(input()) #거스름돈의 input\n",
    "n = 0 #거슬러줘야할 동전의 개수\n",
    "\n",
    "coins = [500, 100, 50, 10]\n",
    "\n",
    "for i in range(len(coins)):\n",
    "    n += m // coins[i]\n",
    "    m %= coins[i]\n",
    "\n",
    "print(n)"
   ]
  },
  {
   "cell_type": "code",
   "execution_count": 8,
   "metadata": {},
   "outputs": [
    {
     "name": "stdout",
     "output_type": "stream",
     "text": [
      "6\n"
     ]
    }
   ],
   "source": [
    "#모범답안\n",
    "n = 1260\n",
    "count = 0\n",
    "\n",
    "coins = [500, 100, 50, 10]\n",
    "\n",
    "for coin in coins:\n",
    "    count += n // coin\n",
    "    n %= coin\n",
    "    \n",
    "print(count)\n",
    "\n",
    "#굳이 내 풀이처럼 인덱싱을 추가적으로 할 필요가 없었다\n",
    "#리스트에 입력한 순서대로 나눗셈을 진행하면 되기 때문에 인덱싱 필요없이 바로 리스트 원소들 그 자체를 사용하면 된다"
   ]
  },
  {
   "cell_type": "code",
   "execution_count": 27,
   "metadata": {
    "scrolled": true
   },
   "outputs": [
    {
     "name": "stdout",
     "output_type": "stream",
     "text": [
      "5 8 3\n",
      "2 4 5 4 6\n",
      "46\n"
     ]
    }
   ],
   "source": [
    "#실전문제 1. 큰 수의 법칙\n",
    "#M은 총 더해야하는 횟수\n",
    "#K는 연속해서 더할 수 있는 최대의 한도\n",
    "\n",
    "N, M, K = map(int, input().split())\n",
    "numbers = list(map(int, input().split()))\n",
    "\n",
    "#주어진 리스트에서 최대값과 그 다음의 최대값을 찾는것이 우선\n",
    "numbers = sorted(numbers, reverse = True) #내림차순으로 주어진 리스트를 변경하기 \n",
    "    #내림차순으로 했을 때 가장 큰값과 그 다음의 큰 값은 순서상 0, 1번째에 해당하므로 둘의 인덱스만 사용하면 됨\n",
    "result = 0 #최종 더한결과\n",
    "\n",
    "for i in range(M):\n",
    "    if i == 0: #첫시작의 제약조건\n",
    "        result += numbers[0]\n",
    "    elif i % K != 0: #K번째 도달했을 때를 구분하기 위함\n",
    "        result += numbers[0]\n",
    "    else:\n",
    "        result += numbers[1]\n",
    "\n",
    "print(result)"
   ]
  },
  {
   "cell_type": "code",
   "execution_count": 17,
   "metadata": {},
   "outputs": [
    {
     "data": {
      "text/plain": [
       "[6, 5, 4, 4, 2]"
      ]
     },
     "execution_count": 17,
     "metadata": {},
     "output_type": "execute_result"
    }
   ],
   "source": [
    "sorted(numbers, reverse = True)"
   ]
  },
  {
   "cell_type": "code",
   "execution_count": 31,
   "metadata": {},
   "outputs": [
    {
     "name": "stdout",
     "output_type": "stream",
     "text": [
      "5 8 3\n",
      "2 4 5 4 6\n",
      "46\n"
     ]
    }
   ],
   "source": [
    "#모범답안 활용하여 내 코드를 더 간결하게!\n",
    "#이 문제에서는 K만큼의 최대값과 그 다음의 최대값이 1번 더해지는 수열이 반복된다\n",
    "#수열이 반복되는 횟수는 M // K 이며\n",
    "#해당 수열내 총 덧셈의 수는 K+1이다\n",
    "#만약 (M // K)* (K+1)이 M보다 작다면 그 값과 M과의 차가 n번만큼 최대값을 더해야하 하는 횟수이다\n",
    "\n",
    "N, M, K = map(int, input().split())\n",
    "numbers = list(map(int, input().split()))\n",
    "\n",
    "numbers = sorted(numbers, reverse = True)\n",
    "\n",
    "result = 0\n",
    "result += (numbers[0] * K + numbers[1]) * (M // K) #반복되는 수열을 최대한 더하기\n",
    "if M == (M // K)* (K+1): #수열의 수 * 반복 횟수가 M과 동일한 경우는 제외하기\n",
    "    pass\n",
    "else:\n",
    "    more = M - ((M // K)* (K+1))\n",
    "    result += numbers[0] * more\n",
    "    \n",
    "print(result)"
   ]
  },
  {
   "cell_type": "code",
   "execution_count": 39,
   "metadata": {},
   "outputs": [
    {
     "name": "stdout",
     "output_type": "stream",
     "text": [
      "2 4\n",
      "7 3 1 8\n",
      "3 3 3 4\n",
      "3\n"
     ]
    }
   ],
   "source": [
    "#실전문제2. 숫자카드 게임\n",
    "#풀이전략. 각 행의 작은수를 모두 추려서\n",
    "#그 작은수들 중 최대값을 찾으면 됨\n",
    "N, M = map(int, input().split())\n",
    "num_lt = []\n",
    "\n",
    "for i in range(N): #입력된 숫자를 받는 리스트 생성\n",
    "    num_lt.append(list(map(int, input().split())))\n",
    "\n",
    "result = 0\n",
    "\n",
    "for i in range(N):\n",
    "    temp = min(num_lt[i])\n",
    "    if temp > result:\n",
    "        result = temp\n",
    "    else:\n",
    "        pass\n",
    "\n",
    "print(result)"
   ]
  },
  {
   "cell_type": "code",
   "execution_count": 40,
   "metadata": {},
   "outputs": [
    {
     "name": "stdout",
     "output_type": "stream",
     "text": [
      "2 4\n",
      "7 3 1 8\n",
      "3 3 3 4\n",
      "3\n"
     ]
    }
   ],
   "source": [
    "#모범답안\n",
    "#내가 한 풀이의 반복문을 단 하나로만 진행하기\n",
    "#데이터를 입력 받음과 동시에 최소값을 모으고 그 중 최대값을 출력\n",
    "N, M = map(int, input().split())\n",
    "\n",
    "result = 0\n",
    "for i in range(N):\n",
    "    data = list(map(int, input().split())) #한줄의 데이터 입력\n",
    "    min_value = min(data) #해당줄의 최소값\n",
    "    result = max(min_value, result) #result와 비교하여 최대값만을 할당. 이를 다시 다음번 iter에서 비교\n",
    "    \n",
    "print(result)"
   ]
  },
  {
   "cell_type": "code",
   "execution_count": 44,
   "metadata": {},
   "outputs": [
    {
     "name": "stdout",
     "output_type": "stream",
     "text": [
      "25 3\n",
      "6\n"
     ]
    }
   ],
   "source": [
    "#실전문제 3. 1이 될때까지\n",
    "#나누는 방법을 최우선 시행. 만약 시행되지 않을때 1을 빼고\n",
    "#나눠지는 경우에는 바로 나눗셈\n",
    "N, K = map(int, input().split())\n",
    "count = 0\n",
    "\n",
    "while True:\n",
    "    if N <=1:\n",
    "        break\n",
    "    elif N % K == 0:\n",
    "        N /= K\n",
    "        count += 1\n",
    "    else:\n",
    "        N -= 1\n",
    "        count += 1\n",
    "        \n",
    "print(count)\n",
    "    #모범답안의 풀이가 딱히 더 나은 점이 없어서 적지 않음"
   ]
  },
  {
   "cell_type": "markdown",
   "metadata": {},
   "source": [
    "## 2. 구현\n",
    "- 문제가 요구하는 사항을 파이썬 문법에 맞게 정확하게 구현하는 것이 목표\n",
    "- 풀이과정을 생각하기는 쉬우나 이를 프로그래밍 문법에 맞춰서 정확하고 빠르게 구현하는것이 문제\n",
    "- 특히 프로그램 수행 시간 제한 및 메모리 제한에 주의하면서 적절한 코드를 작성해야 함"
   ]
  },
  {
   "cell_type": "code",
   "execution_count": 64,
   "metadata": {},
   "outputs": [
    {
     "name": "stdout",
     "output_type": "stream",
     "text": [
      "5\n",
      "R R R U D D\n",
      "3 4\n"
     ]
    }
   ],
   "source": [
    "#예제문제1\n",
    "#L, R, U, D의 이동을 리스트에 구현하기\n",
    "N  = int(input())\n",
    "command = input().split() #이동을 위한 커맨드 입력\n",
    "#굳이 list를 한번더 붙일필요 없이 공백 기준으로 여러 문자가 주어지면 자동으로 리스트 생성됨\n",
    "\n",
    "start = [1, 1]\n",
    "\n",
    "cd_dict = {'L': [0, -1], 'R': [0, 1], 'U': [-1, 0], 'D': [1, 0]} #커맨드에 대응하는 딕셔너리 생성\n",
    "#command만큼 반복시행\n",
    "for i in command:\n",
    "    start = [x + y for x,y in zip(start, cd_dict[i])] #먼저 커맨드를 바로 시행\n",
    "    \n",
    "    for j in range(len(start)): #커맨드 시행후의 결과를 확인\n",
    "        if start[j] <= 0 or start[j] > N: #행이 0이하인 경우 혹은 열이 5초과인 결과를 나타낼 때\n",
    "            start[j] += -cd_dict[i][j] #진행했던 것의 역 방향으로 되돌아오기\n",
    "            \n",
    "print(start[0], start[1])"
   ]
  },
  {
   "cell_type": "code",
   "execution_count": 66,
   "metadata": {},
   "outputs": [
    {
     "name": "stdout",
     "output_type": "stream",
     "text": [
      "5\n",
      "R R R U D D\n",
      "1 1\n"
     ]
    }
   ],
   "source": [
    "#모범 답안\n",
    "#start를 리스트 형태로 하지 않고 x,y의 개별값으로 설정함\n",
    "#커맨드와 그에 따른 이동을 딕셔너리로 설정하지 않고 x와 y에 대응되는 dx, dy형식의 리스트로 설정\n",
    "\n",
    "N  = int(input())\n",
    "command = input().split()\n",
    "\n",
    "x,y = 1, 1\n",
    "\n",
    "#L, R, U, D에 따른 dx,dy 설정\n",
    "dx = [0, 0, -1, 1]\n",
    "dy = [-1, 1, 0, 0]\n",
    "move_types = ['L', 'R', 'U', 'D']\n",
    "\n",
    "for c in command:\n",
    "    \n",
    "    for i in range(len(move_types)):\n",
    "        if c == move_types[i]:\n",
    "            nx = x + dx[i] #임시로 할당\n",
    "            ny = y + dy[i]\n",
    "            \n",
    "    if nx < 1 or ny < 1 or nx > n or ny > n:\n",
    "        continue #continue 아래의 코드들을 무시하고 다음번 iter를 진행\n",
    "    \n",
    "    x, y = nx, ny #실제로 할당\n",
    "\n",
    "print(x, y)"
   ]
  },
  {
   "cell_type": "code",
   "execution_count": 67,
   "metadata": {},
   "outputs": [
    {
     "data": {
      "text/plain": [
       "['R', 'R', 'R', 'U', 'D', 'D']"
      ]
     },
     "execution_count": 67,
     "metadata": {},
     "output_type": "execute_result"
    }
   ],
   "source": [
    "command"
   ]
  },
  {
   "cell_type": "code",
   "execution_count": 79,
   "metadata": {},
   "outputs": [
    {
     "name": "stdout",
     "output_type": "stream",
     "text": [
      "5\n",
      "11475\n"
     ]
    }
   ],
   "source": [
    "#예제문제2\n",
    "#시간 초과함\n",
    "\n",
    "#입력되는 N시 59분 59초까지 3이라는 숫자가 하나라도 포함되어있는 경우의 수를 구하라\n",
    "#순수히 경우의수로 풀이하기\n",
    "#시의 경우의 수 0 ~ 23: 총 24\n",
    "#분의 경우의 수 0 ~ 59: 총 60\n",
    "#초의 경우의 수 0 ~ 59: 총 60\n",
    "#시에서 3이 존재하는 경우는 03, 13, 23 밖에 없음\n",
    "#분과 초는 0 ~ 59까지 사이에 3이 모두 존재하지 않는 경우의 수 (5 * 9)를 사용\n",
    "\n",
    "N = int(input())\n",
    "count = 1\n",
    "\n",
    "if N < 13:\n",
    "    count *= N * 45 * 45\n",
    "elif N < 23:\n",
    "    count *= N-1 * 45 * 45\n",
    "else:\n",
    "    count *= N-2 * 45 * 45\n",
    "    \n",
    "print(((N+1) * 60 * 60) - count)"
   ]
  },
  {
   "cell_type": "code",
   "execution_count": 80,
   "metadata": {},
   "outputs": [
    {
     "name": "stdout",
     "output_type": "stream",
     "text": [
      "5\n",
      "11475\n"
     ]
    }
   ],
   "source": [
    "#모범답안\n",
    "#문자열 자료구조하에서 '3'이라는 문자열이 존재하는지 여부만 따지면됨\n",
    "#따라서 경우의수로 구할 필요가 없음\n",
    "\n",
    "N = int(input())\n",
    "count = 0\n",
    "\n",
    "for i in range(N + 1):\n",
    "    for j in range(60):\n",
    "        for k in range(60):\n",
    "            if '3' in str(i) + str(j) + str(k):\n",
    "                count += 1\n",
    "print(count)"
   ]
  },
  {
   "cell_type": "code",
   "execution_count": null,
   "metadata": {},
   "outputs": [],
   "source": []
  }
 ],
 "metadata": {
  "kernelspec": {
   "display_name": "Python 3",
   "language": "python",
   "name": "python3"
  },
  "language_info": {
   "codemirror_mode": {
    "name": "ipython",
    "version": 3
   },
   "file_extension": ".py",
   "mimetype": "text/x-python",
   "name": "python",
   "nbconvert_exporter": "python",
   "pygments_lexer": "ipython3",
   "version": "3.7.7"
  }
 },
 "nbformat": 4,
 "nbformat_minor": 4
}
