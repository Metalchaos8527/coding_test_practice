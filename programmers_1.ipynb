{
 "cells": [
  {
   "cell_type": "markdown",
   "metadata": {},
   "source": [
    "## programmers 풀이과정"
   ]
  },
  {
   "cell_type": "code",
   "execution_count": 34,
   "metadata": {},
   "outputs": [],
   "source": [
    "#stack / queue1. \n",
    "from collections import deque\n",
    "from operator import add\n",
    "\n",
    "progress = [93, 30, 55]\n",
    "speeds = [1, 30, 5]\n",
    "\n",
    "for i in range(5):\n",
    "    list(map(add, progress, speeds))"
   ]
  },
  {
   "cell_type": "code",
   "execution_count": 31,
   "metadata": {},
   "outputs": [
    {
     "data": {
      "text/plain": [
       "[94, 60, 60]"
      ]
     },
     "execution_count": 31,
     "metadata": {},
     "output_type": "execute_result"
    }
   ],
   "source": [
    "[(x + y) for (x, y) in zip(progress, speeds)]"
   ]
  },
  {
   "cell_type": "code",
   "execution_count": 38,
   "metadata": {},
   "outputs": [
    {
     "data": {
      "text/plain": [
       "False"
      ]
     },
     "execution_count": 38,
     "metadata": {},
     "output_type": "execute_result"
    }
   ],
   "source": [
    "True in [i > 100 for i in progress] "
   ]
  },
  {
   "cell_type": "code",
   "execution_count": 39,
   "metadata": {},
   "outputs": [
    {
     "data": {
      "text/plain": [
       "93"
      ]
     },
     "execution_count": 39,
     "metadata": {},
     "output_type": "execute_result"
    }
   ],
   "source": [
    "progress.pop(0)"
   ]
  },
  {
   "cell_type": "code",
   "execution_count": 40,
   "metadata": {},
   "outputs": [
    {
     "data": {
      "text/plain": [
       "[30, 55]"
      ]
     },
     "execution_count": 40,
     "metadata": {},
     "output_type": "execute_result"
    }
   ],
   "source": [
    "progress"
   ]
  },
  {
   "cell_type": "code",
   "execution_count": 7,
   "metadata": {},
   "outputs": [
    {
     "data": {
      "text/plain": [
       "[2, 1]"
      ]
     },
     "execution_count": 7,
     "metadata": {},
     "output_type": "execute_result"
    }
   ],
   "source": [
    "#남의 solution을 보고 이해함\n",
    "#https://huidea.tistory.com/15 \n",
    "progresses = [93, 30, 55]\n",
    "speeds = [1, 30, 5]\n",
    "\n",
    "def solution(progresses, speeds):\n",
    "    answer = []\n",
    "    count = 0\n",
    "    time = 0\n",
    "    \n",
    "    while len(progresses) > 0:\n",
    "        if (progresses[0] + time * speeds[0]) >= 100:\n",
    "            progresses.pop(0)\n",
    "            speeds.pop(0)\n",
    "            count += 1\n",
    "            #가장 마지막에 if를 만족시키면 while문이 종료되므로 count가 answer에 반영되지 못함\n",
    "            #따라서 가장 마지막의 count는 answer에 append해줘야함\n",
    "            \n",
    "        else:\n",
    "            if count > 0:\n",
    "                answer.append(count)\n",
    "                count = 0\n",
    "                \n",
    "            time += 1\n",
    "    answer.append(count)\n",
    "    return answer\n",
    "\n",
    "solution(progresses, speeds)"
   ]
  },
  {
   "cell_type": "code",
   "execution_count": 8,
   "metadata": {},
   "outputs": [
    {
     "data": {
      "text/plain": [
       "5"
      ]
     },
     "execution_count": 8,
     "metadata": {},
     "output_type": "execute_result"
    }
   ],
   "source": [
    "#dfs / bfs 1\n",
    "#주어진 배열의 수들을 가지고 target에 해당하는 값을 만들 수 있는 방법의 수\n",
    "#다음의 풀이를 참조하였음\n",
    "#https://dev-note-97.tistory.com/113?category=884288\n",
    "#https://velog.io/@uoayop/Programmers-43165-%ED%83%80%EC%BC%93%EB%84%98%EB%B2%84Python\n",
    "#두 문제풀이 모두 트리구조를 바탕으로 이루어짐\n",
    "#트리구조를 공부할 필요성을 보여주는 문제\n",
    "\n",
    "numbers = [1, 1, 1, 1, 1]\n",
    "target = 3\n",
    "\n",
    "def dfs(result, numbers, target):\n",
    "    if len(numbers) == 1:\n",
    "        if result + numbers[0] == target or result - numbers[0] == target:\n",
    "            return 1\n",
    "        else:\n",
    "            return 0\n",
    "    else:\n",
    "        return dfs(result + numbers[0], numbers[1:], target) + dfs(result - numbers[0], numbers[1:], target)\n",
    "    \n",
    "def solution(numbers, target):\n",
    "    answer = dfs(0, numbers, target)\n",
    "    return answer\n",
    "\n",
    "solution(numbers, target)"
   ]
  },
  {
   "cell_type": "code",
   "execution_count": 10,
   "metadata": {},
   "outputs": [
    {
     "name": "stdout",
     "output_type": "stream",
     "text": [
      "[(1, -1), (1, -1), (1, -1), (1, -1), (1, -1)]\n",
      "[5, 3, 3, 1, 3, 1, 1, -1, 3, 1, 1, -1, 1, -1, -1, -3, 3, 1, 1, -1, 1, -1, -1, -3, 1, -1, -1, -3, -1, -3, -3, -5]\n"
     ]
    },
    {
     "data": {
      "text/plain": [
       "5"
      ]
     },
     "execution_count": 10,
     "metadata": {},
     "output_type": "execute_result"
    }
   ],
   "source": [
    "#2. 특이한 풀이\n",
    "#파이썬 순열, 조합에 관한 설명 https://velog.io/@davkim1030/Python-%EC%88%9C%EC%97%B4-%EC%A1%B0%ED%95%A9-product-itertools\n",
    "from itertools import product\n",
    "\n",
    "def solution(numbers, target):\n",
    "    l = [(x, -x) for x in numbers] #가지고 있는 모든 수마다 +, - 에 대한 조합을 생성\n",
    "    print(l)\n",
    "    s = list(map(sum, product(*l))) #가능한 모든 수 조합을 생성한다음, 그 조합들 원소들의 합을 구한다\n",
    "    print(s)\n",
    "    return s.count(target) #최종적으로 리스트 내부에 target에 해당하는 값의 개수만 구하면 끝\n",
    "\n",
    "solution(numbers, target)"
   ]
  },
  {
   "cell_type": "code",
   "execution_count": 11,
   "metadata": {},
   "outputs": [
    {
     "data": {
      "text/plain": [
       "[(1, 1, 1, 1, 1),\n",
       " (1, 1, 1, 1, -1),\n",
       " (1, 1, 1, -1, 1),\n",
       " (1, 1, 1, -1, -1),\n",
       " (1, 1, -1, 1, 1),\n",
       " (1, 1, -1, 1, -1),\n",
       " (1, 1, -1, -1, 1),\n",
       " (1, 1, -1, -1, -1),\n",
       " (1, -1, 1, 1, 1),\n",
       " (1, -1, 1, 1, -1),\n",
       " (1, -1, 1, -1, 1),\n",
       " (1, -1, 1, -1, -1),\n",
       " (1, -1, -1, 1, 1),\n",
       " (1, -1, -1, 1, -1),\n",
       " (1, -1, -1, -1, 1),\n",
       " (1, -1, -1, -1, -1),\n",
       " (-1, 1, 1, 1, 1),\n",
       " (-1, 1, 1, 1, -1),\n",
       " (-1, 1, 1, -1, 1),\n",
       " (-1, 1, 1, -1, -1),\n",
       " (-1, 1, -1, 1, 1),\n",
       " (-1, 1, -1, 1, -1),\n",
       " (-1, 1, -1, -1, 1),\n",
       " (-1, 1, -1, -1, -1),\n",
       " (-1, -1, 1, 1, 1),\n",
       " (-1, -1, 1, 1, -1),\n",
       " (-1, -1, 1, -1, 1),\n",
       " (-1, -1, 1, -1, -1),\n",
       " (-1, -1, -1, 1, 1),\n",
       " (-1, -1, -1, 1, -1),\n",
       " (-1, -1, -1, -1, 1),\n",
       " (-1, -1, -1, -1, -1)]"
      ]
     },
     "execution_count": 11,
     "metadata": {},
     "output_type": "execute_result"
    }
   ],
   "source": [
    "l = [(x, -x) for x in numbers]\n",
    "list(product(*l)) \n",
    "    #객체를 생성하려면 항상 list()안에서 생성해야함\n",
    "    #product는 generator에 해당하는 클래스임"
   ]
  },
  {
   "cell_type": "code",
   "execution_count": 54,
   "metadata": {},
   "outputs": [],
   "source": [
    "#스택/큐 2\n",
    "#프린터\n",
    "from collections import deque\n",
    "\n",
    "result = []\n",
    "priorites = [2, 1, 3, 2]\n",
    "\n",
    "q = deque(priorites)"
   ]
  },
  {
   "cell_type": "code",
   "execution_count": 40,
   "metadata": {},
   "outputs": [],
   "source": [
    "while q:\n",
    "    temp = q.popleft() #앞에 들어온 문서를 추출\n",
    "    temp_ind = priorites.index(temp)\n",
    "    if True in [temp < x for x in q]: #하나라도 추출된 수보다 큰 수가 존재한다면\n",
    "        q.append(temp) #맨 뒤로 넣기\n",
    "    else:\n",
    "        result.append(temp_ind)"
   ]
  },
  {
   "cell_type": "code",
   "execution_count": 55,
   "metadata": {},
   "outputs": [],
   "source": [
    "while q:\n",
    "    for idx, val in enumerate(priorites):\n",
    "        try:\n",
    "            q.popleft()\n",
    "        except:\n",
    "            break\n",
    "        if idx in result:\n",
    "            continue\n",
    "        if True in [val < x for x in q]:\n",
    "            q.append(val)\n",
    "        else:\n",
    "            result.append(idx)"
   ]
  },
  {
   "cell_type": "code",
   "execution_count": 59,
   "metadata": {},
   "outputs": [
    {
     "ename": "ValueError",
     "evalue": "9 is not in list",
     "output_type": "error",
     "traceback": [
      "\u001b[1;31m---------------------------------------------------------------------------\u001b[0m",
      "\u001b[1;31mValueError\u001b[0m                                Traceback (most recent call last)",
      "\u001b[1;32m<ipython-input-59-99da207a3eb8>\u001b[0m in \u001b[0;36m<module>\u001b[1;34m\u001b[0m\n\u001b[1;32m----> 1\u001b[1;33m \u001b[0mresult\u001b[0m\u001b[1;33m.\u001b[0m\u001b[0mindex\u001b[0m\u001b[1;33m(\u001b[0m\u001b[0mpriorites\u001b[0m\u001b[1;33m[\u001b[0m\u001b[1;36m2\u001b[0m\u001b[1;33m]\u001b[0m\u001b[1;33m)\u001b[0m \u001b[1;33m+\u001b[0m \u001b[1;36m1\u001b[0m\u001b[1;33m\u001b[0m\u001b[1;33m\u001b[0m\u001b[0m\n\u001b[0m",
      "\u001b[1;31mValueError\u001b[0m: 9 is not in list"
     ]
    }
   ],
   "source": [
    "result.index(priorites[2]) + 1"
   ]
  },
  {
   "cell_type": "code",
   "execution_count": 56,
   "metadata": {},
   "outputs": [
    {
     "data": {
      "text/plain": [
       "[2, 3, 0, 1]"
      ]
     },
     "execution_count": 56,
     "metadata": {},
     "output_type": "execute_result"
    }
   ],
   "source": [
    "result"
   ]
  },
  {
   "cell_type": "code",
   "execution_count": 65,
   "metadata": {},
   "outputs": [],
   "source": [
    "priorites = [1,1,9,1,1,1]\n",
    "result = []\n",
    "\n",
    "q = deque(priorites)\n",
    "\n",
    "while q:\n",
    "    for idx, val in enumerate(priorites):\n",
    "        try:\n",
    "            q.popleft()\n",
    "        except:\n",
    "            break\n",
    "        if idx in result:\n",
    "            continue\n",
    "        if True in [val < x for x in q]:\n",
    "            q.append(val)\n",
    "        else:\n",
    "            result.append(idx)"
   ]
  },
  {
   "cell_type": "code",
   "execution_count": 68,
   "metadata": {},
   "outputs": [
    {
     "data": {
      "text/plain": [
       "5"
      ]
     },
     "execution_count": 68,
     "metadata": {},
     "output_type": "execute_result"
    }
   ],
   "source": [
    "result.index(priorites[0]) "
   ]
  },
  {
   "cell_type": "code",
   "execution_count": 66,
   "metadata": {},
   "outputs": [
    {
     "data": {
      "text/plain": [
       "[2, 3, 4, 5, 0, 1]"
      ]
     },
     "execution_count": 66,
     "metadata": {},
     "output_type": "execute_result"
    }
   ],
   "source": [
    "result"
   ]
  },
  {
   "cell_type": "code",
   "execution_count": 75,
   "metadata": {},
   "outputs": [
    {
     "name": "stdout",
     "output_type": "stream",
     "text": [
      "[2, 3, 4, 5, 0, 1]\n"
     ]
    }
   ],
   "source": [
    "from collections import deque\n",
    "\n",
    "def solution(priorities, location):\n",
    "    q = deque(priorities)\n",
    "    result = []\n",
    "    \n",
    "    while q:\n",
    "        for idx, val in enumerate(priorities):\n",
    "            try:\n",
    "                q.popleft()\n",
    "            except:\n",
    "                break\n",
    "            if idx in result:\n",
    "                continue\n",
    "            if True in [val < x for x in q]:\n",
    "                q.append(val)\n",
    "            else:\n",
    "                result.append(idx)\n",
    "                \n",
    "    answer = result.index(priorities[location])\n",
    "    \n",
    "    return answer\n",
    "\n",
    "# 메모리 에러가 발생하여 문제를 풀지 못함"
   ]
  },
  {
   "cell_type": "code",
   "execution_count": null,
   "metadata": {},
   "outputs": [],
   "source": [
    "#남의 풀이\n",
    "#https://hapbbying.tistory.com/139\n",
    "\n",
    "def solution(priorities, location):\n",
    "    answer = 0\n",
    "    priority = []\n",
    "    \n",
    "    for i in range(len(priorities)):\n",
    "        priority.append((priorities[i], i)) #값과 인덱스를 넣는 것이 중요함\n",
    "    \n",
    "    while priority:\n",
    "        max_p = max(priority)\n",
    "        p = priority.pop(0) #가장 앞의 튜플을 추출해본다\n",
    "        \n",
    "        if p[0] != max_p[0]:\n",
    "            priority.append(p)\n",
    "        else: #최고값에 일치한다면\n",
    "            answer += 1 #answer는 찾고자 하는 수가 사라진 번째와 관련이 있으므로\n",
    "            #answer에 +1씩 하여서 사라진번째 숫자를 찾는다\n",
    "            if p[1] == location:\n",
    "                break\n",
    "                \n",
    "    return answer"
   ]
  }
 ],
 "metadata": {
  "kernelspec": {
   "display_name": "Python 3",
   "language": "python",
   "name": "python3"
  },
  "language_info": {
   "codemirror_mode": {
    "name": "ipython",
    "version": 3
   },
   "file_extension": ".py",
   "mimetype": "text/x-python",
   "name": "python",
   "nbconvert_exporter": "python",
   "pygments_lexer": "ipython3",
   "version": "3.7.7"
  }
 },
 "nbformat": 4,
 "nbformat_minor": 4
}
