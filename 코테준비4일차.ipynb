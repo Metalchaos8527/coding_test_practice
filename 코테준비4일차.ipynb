{
 "cells": [
  {
   "cell_type": "markdown",
   "metadata": {},
   "source": [
    "## 6. 다이나믹 프로그래밍\n",
    "- 메모리를 적절히 사용하여 **수행시간 효율성을 비약적으로 향상**시키는 방법\n",
    "- 이미 계산된 결과를 **별도의 메모리 영역에 저장**하여서 다시 계산하지 않도록\n",
    "\n",
    "<br> \n",
    "\n",
    "*다이나믹 프로그래밍의 조건* (2 조건들에 부합해야 다이나믹 프로그래밍 가능)     \n",
    "1) 최적 부분 구조 Optimal Substructure  \n",
    "큰 문제를 작은 문제로 **나눌 수 있으며**작은 문제의 답을 모아서 큰 문제를 해결   \n",
    "2) 중복되는 부분 문제 Overlaping Subproblem  \n",
    "동일한 작은 문제를 **반복적으로** 해결"
   ]
  },
  {
   "cell_type": "code",
   "execution_count": 7,
   "metadata": {},
   "outputs": [
    {
     "name": "stdout",
     "output_type": "stream",
     "text": [
      "3\n"
     ]
    }
   ],
   "source": [
    "#피보나치 수열과 다이나믹 프로그래밍\n",
    "\n",
    "#가장 기본적인 피보나치 소스코드\n",
    "def fibo(x):\n",
    "    if x == 1 or x == 2: #재귀함수가 멈출 조건 명시\n",
    "        return 1\n",
    "    return fibo(x -2) + fibo(x - 1)\n",
    "\n",
    "print(fibo(4))"
   ]
  },
  {
   "cell_type": "markdown",
   "metadata": {},
   "source": [
    "### 기본 피보나치 소스코드의 문제점\n",
    "- 재귀함수를 사용하게 되는데 기본적으로 fibo(1), fibo(2)를 가지고 계속 더해나가는 방식이므로 두 함수가 무수히 많이 호출됨\n",
    "- 지수 시간 복잡도 $O(2^{N})$를 가지게 됨\n",
    "    - f(100)을 투입하면 컴퓨터가 계산하기 어려울정도로 긴 시간동안 계산해야 함   \n",
    "    -> 효율적인 프로그래밍 방법에 대한 고민 필요\n",
    "    \n",
    "<br> \n",
    "\n",
    "### 메모이제이션 Memoization (탑다운 방식)\n",
    "- 한번 계산한 결과를 별도의 메모리 공간에 기록해놓고 이를 계속 사용하도록 하는 방법\n",
    "- 즉 특정 문제에 대한 답을 기록해놓아서 해당 문제를 다시 풀어야 할 때 답을 메모리 공간에서 그대로 꺼내서 사용하도록\n",
    "    - 이를 위한 배열(리스트)를 d, dp라고 보통 명명함\n",
    "- 캐싱(Caching)이라고도 불리움\n",
    "- 탑다운 방식은 구현과정에서 **재귀 함수**를 이용, 즉 큰 문제를 작은 문제로 분리하여 작은 문제들을 무수히 호출\n",
    "\n",
    "### 보텀업 방식\n",
    "- 아래쪽에서부터 작은문제를 차례대로 풀이. 주로 **반복문을 사용**\n",
    "\n",
    "<br> \n",
    "\n",
    "이와같이 다이나믹 프로그래밍을 이용하여 피보나치 수열 문제를 풀 경우 시간복잡도는 *O(N)*으로 획기적으로 줄어듬"
   ]
  },
  {
   "cell_type": "code",
   "execution_count": 11,
   "metadata": {},
   "outputs": [
    {
     "name": "stdout",
     "output_type": "stream",
     "text": [
      "218922995834555169026\n"
     ]
    }
   ],
   "source": [
    "#탑다운 방식 이용 피보나치 수열 문제\n",
    "\n",
    "#메모이제이션 용 리스트 초기화\n",
    "d = [0] * 100 \n",
    "\n",
    "def fibo(x):\n",
    "    if x == 1 or x == 2:\n",
    "        return 1\n",
    "    \n",
    "    if d[x] != 0: #이미 계산되어서 메모가 된 경우, 그 값을 그대로 이용\n",
    "        return d[x]\n",
    "    \n",
    "    d[x] = fibo(x-1) + fibo(x-2) #탑다운 방식이므로 재귀함수를 이용\n",
    "    return d[x]\n",
    "\n",
    "print(fibo(99))"
   ]
  },
  {
   "cell_type": "code",
   "execution_count": 10,
   "metadata": {},
   "outputs": [
    {
     "name": "stdout",
     "output_type": "stream",
     "text": [
      "218922995834555169026\n"
     ]
    }
   ],
   "source": [
    "#보텀업 방식 이용 피보나치 수열 문제\n",
    "d = [0] * 100\n",
    "\n",
    "#시작항을 초기화\n",
    "d[1] = 1\n",
    "d[2] = 1\n",
    "n = 99\n",
    "\n",
    "for i in range(3, n+1): #보텀업 방식이므로 반복문을 이용\n",
    "    d[i] = d[i-2] + d[i-1] #d = 3, 4, 5... 즉 아래부터 문제에 대한 답을 찾음\n",
    "    \n",
    "print(d[99])"
   ]
  },
  {
   "cell_type": "markdown",
   "metadata": {},
   "source": [
    "## 다이나믹 프로그래밍 vs 분할 정복 (정렬 문제)\n",
    "- 두 문제 모두 큰 문제를 작은 문제로 나눌 수 있는 **최적 부분 구조**를 가질 때 사용 가능함\n",
    "    - 작은 문제의 답을 모아서 큰 문제의 답으로 사용가능한지\n",
    "- 그러나 두 문제의 차이는 **부분 문제의 중복**과 관련이 있음\n",
    "- 다이나믹 프로그래밍은 큰 답을 구하기 위해 부분 문제들이 중복적으로 사용되고 서로 관련됨\n",
    "    - ex) 피보나치 수열 f(6) = f(5) + f(4) = f(4) + f(3) + f(3) + f(2) = ....\n",
    "- 분할 정복 문제는 부분 문제들이 중복되지 않고 한번만 수행됨\n",
    "    - 퀵 정렬 알고리즘에서 피벗값은 한번 자리를 잡은뒤 위치가 변경되지 않음\n",
    "    \n",
    "    \n",
    "### 다이나믹 프로그래밍 접근 방법\n",
    "- 어떤 문제를 보았을 때 그리디, 구현, 완전탐색 등의 아이디어로 문제를 풀기 어려울 때, 혹은 연산 수행시간 초과가 뜨는 문제가 보일 때 다이나믹 프로그래밍 문제라고 접근할 수 있음\n",
    "- 일단 재귀함수 만으로 완전 탐색이 가능한 문제의 경우 메모이제이션 같은 방법을 활용한 탑다운 방식의 다이나믹 프로그래밍을 시도해 볼 수 있음\n",
    "- 중요한 것은 결국 **반복 숙달**"
   ]
  },
  {
   "cell_type": "code",
   "execution_count": 30,
   "metadata": {},
   "outputs": [
    {
     "name": "stdout",
     "output_type": "stream",
     "text": [
      "26\n",
      "13\n",
      "12\n",
      "4\n",
      "2\n",
      "1\n",
      "5\n"
     ]
    }
   ],
   "source": [
    "#실전문제1. 1로 만들기\n",
    "#5, 3, 2로 나누거나 1을 빼는 연산을 한번씩 수행가능\n",
    "#주어진 수가 1로 되기까지 최소한의 연산을 수행하는 프로그램 개발\n",
    "#제대로 풀지 못함\n",
    "\n",
    "x = int(input())\n",
    "n = 0\n",
    "\n",
    "while True:\n",
    "    if x <= 1:\n",
    "        break\n",
    "    \n",
    "    if x % 5 == 0:\n",
    "        x //= 5\n",
    "        n += 1\n",
    "        print(x)\n",
    "        continue\n",
    "        \n",
    "    elif x % 3 == 0:\n",
    "        x //= 3\n",
    "        n += 1\n",
    "        print(x)\n",
    "        continue\n",
    "        \n",
    "    elif x % 2 == 0:\n",
    "        x //= 2\n",
    "        n += 1\n",
    "        print(x)\n",
    "        continue\n",
    "        \n",
    "    else:\n",
    "        x -= 1\n",
    "        n += 1\n",
    "        print(x)\n",
    "        \n",
    "print(n)\n",
    "    #내 코드로는 26이 2로 나눠지기 때문에 최종 n이 5로 나옴"
   ]
  },
  {
   "cell_type": "markdown",
   "metadata": {},
   "source": [
    "### 풀이\n",
    "https://velog.io/@diddnjs02/%EC%BD%94%EB%94%A9%ED%85%8C%EC%8A%A4%ED%8A%B8%EB%B0%B1%EC%A4%80-1%EB%A1%9C-%EB%A7%8C%EB%93%A4%EA%B8%B0 참조\n",
    "- 단순히 그리디처럼 매 시행마다 2, 3, 5로 나누는 방법으로는 최적의 해를 얻기 어려움\n",
    "- 따라서 현재 어떤 값으로 나눠지는것이 중요한게 아니라 **각각의 케이스마다 실행해 본 결과 중 최소의 값으로 선택하는 것**이 중요\n",
    "\n",
    "1) 조건1. 주어진 문제를 분해가능한가 + \n",
    "x  = 6일때의 발생할 수 있는 경우를 생각해보자\n",
    "- 1로 빼면 x = 5이고 이를 다시 5로 나눈면 1 -> f(6) -> f(5) -> f(1)\n",
    "- 2로 나누면 x = 3 이를 다시 1로 빼구 2로 나누면 x = 1 -> f(6) -> f(3) -> f(2) -> f(1)\n",
    "....\n",
    "- 이와 같이 반복되는 작은 문제들이 발생한다. 따라서 작은 문제로 분해가능하다\n",
    "\n",
    "2) 점화식을 세우자\n",
    "- 점화식을 세우는 메커니즘은 위의 포스트를 참조\n",
    "- 정리하면 다이내믹 프로그래밍을 하고자 만드는 dp의 인덱스를 x, 값은 x가 1이 되기까지의 연산횟수를 설정\n",
    "- 그런데 min(d[x])가 되어야 하므로 이것이 되게끔하는 방안을 살펴야 함\n",
    "    - x = 3일 때 연산횟수 d[3] = 3 // 3 = 1\n",
    "    - x = 9일 때 연산횟수 d[9] = 9 // 3 = 3 // 3 = 1   \n",
    "    -> 즉 d[9]는 d[9] = d[3] + 1에 해당하는 것, 이는 이전의 작은 값의 연산횟수를 **참고하는 것**과 같음\n",
    "    - 따라서 주어진 값이 어떤 숫자의 제곱수에 해당하면 최소로 연산이 될 수 있다고 할 수 있다\n",
    "    - 만약 주어진 값이 어떤 숫자의 제곱수에도 해당하지 않는다면\n",
    "        - 1을 빼는 작업을 우선적으로 수행하고 그 때의 연산횟수를 구한다\n",
    "        - 다른 숫자로 나눠보고 그 때의 연산횟수를 구한다"
   ]
  },
  {
   "cell_type": "code",
   "execution_count": 32,
   "metadata": {},
   "outputs": [
    {
     "name": "stdout",
     "output_type": "stream",
     "text": [
      "26\n",
      "3\n"
     ]
    }
   ],
   "source": [
    "x = int(input())\n",
    "d = [0] * 30001\n",
    "\n",
    "for i in range(2, x + 1):\n",
    "    \n",
    "    #현재 값에서 1을 빼는 경우의 연산횟수\n",
    "    d[i] = d[i-1] + 1 \n",
    "    \n",
    "    if i % 2 ==0: #2로 나눠질때의 연산횟수\n",
    "        d[i] =  min(d[i], d[i // 2] + 1)\n",
    "        \n",
    "    if i % 3 ==0: #3으로 나눠질때의 연산횟수\n",
    "        d[i] =  min(d[i], d[i // 3] + 1)\n",
    "        \n",
    "    if i % 5 ==0: #5로 나눠질때의 연산횟수\n",
    "        d[i] =  min(d[i], d[i // 5] + 1)\n",
    "        \n",
    "print(d[x])"
   ]
  },
  {
   "cell_type": "code",
   "execution_count": 43,
   "metadata": {},
   "outputs": [
    {
     "name": "stdout",
     "output_type": "stream",
     "text": [
      "4\n",
      "1 3 1 5\n",
      "8\n"
     ]
    }
   ],
   "source": [
    "#실전문제 2. 개미전사\n",
    "#식량창고가 배열로 주어짐. 이 창고의 식량을 가져가려 하는데 붙어있는 창고는 털지 못함\n",
    "#최소 한칸 이상 떨어진 창고를 털 때 들키지 않을 수 있음\n",
    "#이 때 최대로 약탈할 수 있는 식량의 수를 구하라\n",
    "\n",
    "#다이나믹 프로그래밍 문제풀이 방식이 다른 문제들보다 매우 익숙하지 않아서 주로 풀이를 보는쪽으로 이해함\n",
    "n = int(input())\n",
    "food = list(map(int, input().split()))\n",
    "\n",
    "d = [0] * 100\n",
    "\n",
    "d[0] = food[0]\n",
    "d[1] = max(food[0], food[1])\n",
    "\n",
    "for i in range(2, n): #0,1 번째는 채웠으므로 2부터 n-1까지의 인덱스만 채우면 됨 \n",
    "    d[i] = max(d[i-1], d[i-2] + food[i])\n",
    "    \n",
    "print(d[n - 1])"
   ]
  },
  {
   "cell_type": "code",
   "execution_count": 49,
   "metadata": {},
   "outputs": [
    {
     "name": "stdout",
     "output_type": "stream",
     "text": [
      "3\n",
      "5\n"
     ]
    }
   ],
   "source": [
    "#실전문제 3. 바닥 공사\n",
    "#i를 n으로 하고, d[i]는 그 때의 경우의 수\n",
    "#이 문제 역시 풀이를 보고 품\n",
    "\n",
    "n = int(input())\n",
    "\n",
    "d = [0] * 1001\n",
    "d[1] = 1\n",
    "d[2] = 3\n",
    "\n",
    "for i in range(3, n+1):\n",
    "    d[i] = ((d[i-1] + d[i-2] * 2) % 796796)\n",
    "    \n",
    "print(d[n])"
   ]
  },
  {
   "cell_type": "code",
   "execution_count": 56,
   "metadata": {},
   "outputs": [
    {
     "name": "stdout",
     "output_type": "stream",
     "text": [
      "2 15\n",
      "2\n",
      "3\n",
      "5\n"
     ]
    }
   ],
   "source": [
    "#실전문제 4. 효율적인 화폐 구성\n",
    "#화폐 종류와 원 M이 주어질 때 해당 M을 만들기 위한 화폐 개수의 최소값\n",
    "#이 문제 역시 풀이를 보고 품\n",
    "\n",
    "n, m = map(int, input().split())\n",
    "coins = []\n",
    "for i in range(n):\n",
    "    coins.append(int(input()))\n",
    "    \n",
    "d = [10001] * (m + 1) #min을 이용하여 갱신하기 위해 모든 돈을 만들 수 없다고 가정하고 초기화\n",
    "\n",
    "d[0]= 0\n",
    "for i in range(n):\n",
    "    for j in range(coins[i], m+1):\n",
    "        if d[j - coins[i]] != 10001: #만드는 방법이 존재할 때\n",
    "            d[j] = min(d[j], d[j - coins[i]] + 1)\n",
    "            \n",
    "            \n",
    "if d[m] == 10001:\n",
    "    print(-1)\n",
    "else:\n",
    "    print(d[m])"
   ]
  }
 ],
 "metadata": {
  "kernelspec": {
   "display_name": "Python 3",
   "language": "python",
   "name": "python3"
  },
  "language_info": {
   "codemirror_mode": {
    "name": "ipython",
    "version": 3
   },
   "file_extension": ".py",
   "mimetype": "text/x-python",
   "name": "python",
   "nbconvert_exporter": "python",
   "pygments_lexer": "ipython3",
   "version": "3.7.7"
  }
 },
 "nbformat": 4,
 "nbformat_minor": 4
}
